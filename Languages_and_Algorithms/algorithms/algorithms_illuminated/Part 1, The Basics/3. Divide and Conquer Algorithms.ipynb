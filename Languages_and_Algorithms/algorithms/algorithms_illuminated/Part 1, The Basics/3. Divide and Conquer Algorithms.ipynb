{
 "cells": [
  {
   "cell_type": "markdown",
   "metadata": {},
   "source": [
    "### Divide and Conquer algorithms\n",
    "\n",
    "In this notebook we will code and analyse the following three divide and conquer algorithms.\n",
    "\n",
    "1. Counting the number of inversions\n",
    "2. Matrix multiplication using Strassen's algorithm\n",
    "3. Computing the closest points together.\n",
    "\n",
    "\n",
    "#### Counting the Number of inversions\n",
    "\n",
    "Counting the number of inversions is a measure of how similar (or not similar) are two arrays of numbers. This algorithm is used in recommender systems where the system recommends something (say a movie) to the consumer based on how similar their rating is to other people who rated similarly.\n",
    "\n",
    "Collaborative Filtering is a technique where we try to find similarities between likes of people. Suppose we want to find similarities of the movie rankings of two people, we will sort movies by ranking of one person's preference and then put ranks given by the second person for those movies. \n",
    "\n",
    "For example if your ranked 3 movies A, B and C as your favorite movies and your friend ranked their favorite movies as B A C then between you and the your friend the ranking list becomes 2 1 3 because A is your favorite movie but is second favorite for B. Similarly B is your second favorite movie but your friend's favorite. Both you and your friend's choice match for the third best movie.\n",
    "\n",
    "From the above example we see that if two people have similar tastes, both the arrays would be identical and there would be no inversions. Higher the number of inversions more are the differences in the preferences.\n",
    "\n",
    "We will use divide and conquer algorithm like Merge sort to find the number of inversions in an array. The number of inversions in an array A are the number of pairs of indices $(i, j)$ where $i < j$ and $A[i] < A[j]$\n",
    "\n",
    "An array that is sorted has no inversions, the converse is also true, that is, an array with no inversions is sorted and is not sorted if it has atleast one inversion.\n",
    "\n",
    "For example, consider the following array\n",
    "\n",
    "1 3 5 2 4 6\n",
    "\n",
    "The number of inversions in this array are the following pair of numbers\n",
    "(3, 2), (5, 2) and (5, 4)\n",
    "\n",
    "For an array of n numbers, we can have a maxumum of (n - 1) + (n - 2) + .. + 1 number of inversions = $n(n - 1) / 2$ number of inversions.\n",
    "\n",
    "\n",
    "Let us implement ``counting inversion`` in two different ways. First one is the Bruteforce approach and the second one is using divide and conquer approach that sorts the numbers using Merge Sort along with counting the number of inversions.\n",
    "\n"
   ]
  },
  {
   "cell_type": "code",
   "execution_count": 1,
   "metadata": {},
   "outputs": [],
   "source": [
    "def count_inv_brute_force(array):\n",
    "    num_inversions = 0\n",
    "    for i in range(len(array)):\n",
    "        for j in range(i + 1, len(array)):\n",
    "            if array[i] > array[j]:\n",
    "                num_inversions += 1\n",
    "            \n",
    "    return num_inversions\n",
    "                "
   ]
  },
  {
   "cell_type": "code",
   "execution_count": 2,
   "metadata": {},
   "outputs": [
    {
     "data": {
      "text/plain": [
       "3"
      ]
     },
     "execution_count": 2,
     "metadata": {},
     "output_type": "execute_result"
    }
   ],
   "source": [
    "count_inv_brute_force([1, 3, 5, 2, 4, 6])"
   ]
  },
  {
   "cell_type": "markdown",
   "metadata": {},
   "source": [
    "we will now load the two test case files provided [here](http://theory.stanford.edu/~tim/algorithmsilluminated.html) and test our implementation. "
   ]
  },
  {
   "cell_type": "code",
   "execution_count": 3,
   "metadata": {},
   "outputs": [],
   "source": [
    "with open('problem3.5test.txt', 'r') as f:\n",
    "    lines = f.readlines()\n",
    "prob35test = [int(line.strip()) for line in lines]\n",
    "\n",
    "with open('problem3.5.txt', 'r') as f:\n",
    "    lines = f.readlines()\n",
    "prob35 = [int(line.strip()) for line in lines]\n"
   ]
  },
  {
   "cell_type": "code",
   "execution_count": 4,
   "metadata": {},
   "outputs": [
    {
     "data": {
      "text/plain": [
       "28"
      ]
     },
     "execution_count": 4,
     "metadata": {},
     "output_type": "execute_result"
    }
   ],
   "source": [
    "count_inv_brute_force(prob35test)"
   ]
  },
  {
   "cell_type": "markdown",
   "metadata": {},
   "source": [
    "\n",
    "The brute force approach seems to be working fine for small inputs, it will however not work for efficiently on the larger 100000 numbers for counting the inversions. We will now implement the inversion counting piggy backed on merge sort "
   ]
  },
  {
   "cell_type": "code",
   "execution_count": 5,
   "metadata": {},
   "outputs": [],
   "source": [
    "def count_inversions_and_sort(array1, array2):\n",
    "    #\n",
    "    # Returns a tuple of the number inversions and the sorted array\n",
    "    #\n",
    "    res = []\n",
    "    num_inv = 0\n",
    "    i = 0\n",
    "    j = 0\n",
    "    l1 = len(array1)\n",
    "    l2 = len(array2)\n",
    "    for _ in range(l1 + l2):\n",
    "        if i == l1:\n",
    "            res += [array2[x] for x in range(j, l2)]\n",
    "            break\n",
    "        if j == l2:\n",
    "            res += [array1[x] for x in range(i, l1)]\n",
    "            break\n",
    "            \n",
    "        if array1[i] < array2[j]:\n",
    "            res.append(array1[i])\n",
    "            i += 1\n",
    "        else:\n",
    "            res.append(array2[j])\n",
    "            j += 1\n",
    "            #If array1[i] is less than array2[j] then all remaining elements of\n",
    "            #array1 also are guaranteed to be larger than array2[j] since both array1 and array2 \n",
    "            #are sorted. Thus the number of elements in array1 (including the current) will have split inversions\n",
    "            #with the current element in array2            \n",
    "            num_inv += (l1 - i)\n",
    "            \n",
    "    return (num_inv, res)\n",
    "    "
   ]
  },
  {
   "cell_type": "code",
   "execution_count": 6,
   "metadata": {},
   "outputs": [],
   "source": [
    "def sort_and_count_inversions(array):\n",
    "    if len(array) == 1:\n",
    "        return (0, array)\n",
    "    \n",
    "    i = len(array) // 2\n",
    "    l_inv, left = sort_and_count_inversions(array[0:i])\n",
    "    r_inv, right = sort_and_count_inversions(array[i:])\n",
    "    split_inv, merged = count_inversions_and_sort(left, right)\n",
    "    return (l_inv + r_inv + split_inv, merged)"
   ]
  },
  {
   "cell_type": "code",
   "execution_count": 7,
   "metadata": {},
   "outputs": [
    {
     "name": "stdout",
     "output_type": "stream",
     "text": [
      "Number of splits in test array are 28\n",
      "Number of splits in the big array are 2407905288\n"
     ]
    }
   ],
   "source": [
    "splits, _ = sort_and_count_inversions(prob35test)\n",
    "print('Number of splits in test array are',splits)\n",
    "\n",
    "splits, _ = sort_and_count_inversions(prob35)\n",
    "print('Number of splits in the big array are',splits)\n"
   ]
  },
  {
   "cell_type": "markdown",
   "metadata": {},
   "source": [
    "\n",
    "\n",
    "The divide and conquer method ``sort_and_count_inversions`` is trivial. All we do is to count the number of inversions on the left and right and get the corresponding halves sorted. We then find the split inversions and also merge the two sorted arrays. The total inversions are the number of inversions on the left plus the ones on the right plus the number of split inversions.\n",
    "\n",
    "The ingenuity lies in the ``count_inversions_and_sort`` function. This function piggy backs on the merge sort function and counts the number of inversions along with sorting the array. The function defined above is pretty straight forward and has comments inline giving explanation.\n",
    "\n",
    "If we have no inversions in a array A and we receive two halves of an array, then the elements in first half are strictly less than the elements in second half.\n",
    "\n",
    "The ``sort_and_count_inversions`` splits the input array in two and recursively sorts and counts inversions on the left and right half. The number of tasks at level n doubles than that of level n - 1 and input size given to each of task at level n is half of the input given to a unit on n - 1 level. This is similar to merge sort and given that the routine to sort and count inversions execute in linear time, the count ``sort_and_count_inversions`` also runs in $O(nlogn)$ time\n",
    "\n",
    "---\n",
    "#### Strassen's Matrix multiplication Algorithm\n",
    "\n",
    "Stratten's Matrix multiplication algorithm is a clever divide and conquer approach for multiplying two matrix. Before we see the details of matrix multiplication using Strassen's approach, let us implement matrix multiplication using simple, straight forward approach.\n",
    "\n",
    "For simplicity of implementing divide and conquer algorithms, we will assume that the matrix square and each side is a power of 2."
   ]
  },
  {
   "cell_type": "code",
   "execution_count": 8,
   "metadata": {},
   "outputs": [],
   "source": [
    "def mult_simple(A, B):\n",
    "    dim = len(A[0])\n",
    "    Z = [[0 for _ in range(dim)] for _ in range(dim)]\n",
    "    for i in range(dim):\n",
    "        for j in range(dim):\n",
    "            Z[i][j] = sum([A[i][k] * B[k][j] for k in range(dim)])\n",
    "                \n",
    "    return Z                "
   ]
  },
  {
   "cell_type": "code",
   "execution_count": 9,
   "metadata": {},
   "outputs": [
    {
     "data": {
      "text/plain": [
       "[[90, 100, 110, 120],\n",
       " [202, 228, 254, 280],\n",
       " [314, 356, 398, 440],\n",
       " [426, 484, 542, 600]]"
      ]
     },
     "execution_count": 9,
     "metadata": {},
     "output_type": "execute_result"
    }
   ],
   "source": [
    "mult_simple([[1, 2, 3, 4], [5, 6, 7, 8], [9, 10, 11, 12], [13, 14, 15, 16]], \n",
    "                  [[1, 2, 3, 4], [5, 6, 7, 8], [9, 10, 11, 12], [13, 14, 15, 16]])"
   ]
  },
  {
   "cell_type": "markdown",
   "metadata": {},
   "source": [
    "\n",
    "\n",
    "Since there are three loops in the above multiplication (with variables i, j and k for each loop counter). The time complexity of a matrix multiplication is $O(n^3)$.\n",
    "\n",
    "Before we go ahead and implement a recursive divide and conquer algorithm, let us verify our result are correct by using a reference implementation."
   ]
  },
  {
   "cell_type": "code",
   "execution_count": 10,
   "metadata": {},
   "outputs": [
    {
     "data": {
      "text/plain": [
       "matrix([[ 90, 100, 110, 120],\n",
       "        [202, 228, 254, 280],\n",
       "        [314, 356, 398, 440],\n",
       "        [426, 484, 542, 600]])"
      ]
     },
     "execution_count": 10,
     "metadata": {},
     "output_type": "execute_result"
    }
   ],
   "source": [
    "import numpy as np\n",
    "A = np.matrix([[1, 2, 3, 4], [5, 6, 7, 8], [9, 10, 11, 12], [13, 14, 15, 16]])\n",
    "A * A"
   ]
  },
  {
   "cell_type": "markdown",
   "metadata": {},
   "source": [
    "\n",
    "The divide and conquer approach will break split an $n \\times n$ matrix into 4 $\\frac{n}{2} \\times \\frac{n}{2}$ matrix and then multiple then recursively. Let us illustrate then as below\n",
    "\n",
    "Suppose the bigger matrix X and Y are split in the following two matrices. Then the resulting matrix multiplication is formed by multiplying and these 8 small matrices. This divide and conquer can continue until we get a matrix of size 1 where the recursive divide and conquer stops. This divide and conquer is summarized in the following picture where A, B, C, D and E, F, G, H are smaller matrices of the bigger matrices X and Y respectively.\n",
    "\n",
    "$$\n",
    "\\begin{pmatrix} \n",
    "A & B \\\\\n",
    "C & D \n",
    "\\end{pmatrix}\n",
    "\\times\n",
    "\\begin{pmatrix} \n",
    "E & F \\\\\n",
    "G & H \n",
    "\\end{pmatrix}\n",
    "=\n",
    "\\begin{pmatrix} \n",
    "AE + BG  & AF + BH \\\\\n",
    "CE + DG & CF + DH \n",
    "\\end{pmatrix}\n",
    "$$\n",
    "\n",
    "\n"
   ]
  },
  {
   "cell_type": "code",
   "execution_count": 11,
   "metadata": {},
   "outputs": [],
   "source": [
    "def add_matrices(A, B):\n",
    "    if type(A[0]) is int:\n",
    "        return [A[i] + B[i] for i in range(len(A))]\n",
    "    else:\n",
    "        dim = len(A[0])\n",
    "        return [[A[i][j] + B[i][j] for j in range(dim)] for i in range(dim)]\n",
    "    \n",
    "def sub_matrices(A, B):\n",
    "    if type(A[0]) is int:\n",
    "        return [A[i] - B[i] for i in range(len(A))]\n",
    "    else:\n",
    "        dim = len(A[0])\n",
    "        return [[A[i][j] - B[i][j] for j in range(dim)] for i in range(dim)]\n",
    "\n",
    "\n",
    "def slicemat(mat, r_from, r_to, c_from, c_to):\n",
    "    return [[mat[r][c] for c in range(c_from, c_to)] for r in range(r_from, r_to)]\n",
    "\n",
    "def hcat(A, B):\n",
    "    return [A[0] + B[0]] if len(A) == 1 else [A[r] + B[r] for r in range(len(A))]\n",
    "\n",
    "\n",
    "def mult_dc(X, Y):\n",
    "    dim = len(X[0])\n",
    "    if dim == 1:\n",
    "        return [[X[0][0] * Y[0][0]]]\n",
    "    else:\n",
    "        A = slicemat(X, 0, dim // 2, 0, dim // 2)\n",
    "        B = slicemat(X, 0, dim // 2, dim // 2, dim)\n",
    "        C = slicemat(X, dim // 2, dim, 0, dim // 2)\n",
    "        D = slicemat(X, dim // 2, dim, dim // 2, dim)\n",
    "        E = slicemat(Y, 0, dim // 2, 0, dim // 2)\n",
    "        F = slicemat(Y, 0, dim // 2, dim // 2, dim)\n",
    "        G = slicemat(Y, dim // 2, dim, 0, dim // 2)\n",
    "        H = slicemat(Y, dim // 2, dim, dim // 2, dim)\n",
    "        AE = mult_dc(A, E)\n",
    "        BG = mult_dc(B, G)\n",
    "        AF = mult_dc(A, F)\n",
    "        BH = mult_dc(B, H)\n",
    "        CE = mult_dc(C, E)\n",
    "        DG = mult_dc(D, G)\n",
    "        CF = mult_dc(C, F)\n",
    "        DH = mult_dc(D, H)\n",
    "        return hcat(add_matrices(AE, BG), add_matrices(AF, BH)) + hcat(add_matrices(CE, DG), add_matrices(CF, DH))\n",
    "        "
   ]
  },
  {
   "cell_type": "code",
   "execution_count": 12,
   "metadata": {},
   "outputs": [
    {
     "data": {
      "text/plain": [
       "[[90, 100, 110, 120],\n",
       " [202, 228, 254, 280],\n",
       " [314, 356, 398, 440],\n",
       " [426, 484, 542, 600]]"
      ]
     },
     "execution_count": 12,
     "metadata": {},
     "output_type": "execute_result"
    }
   ],
   "source": [
    "X = [[1, 2, 3, 4], [5, 6, 7, 8], [9, 10, 11, 12], [13, 14, 15, 16]]\n",
    "mult_dc(X, X)"
   ]
  },
  {
   "cell_type": "markdown",
   "metadata": {},
   "source": [
    "\n",
    "The scary looking function shown above is implementation of the same algorithm described earlier. We split the input array into 8 smaller arrays and perform these 8 matrix multiplication recursively before we combine the results into a bigger martix. Without looking at how we compute the time compexity of the algorithm it still is $O(n^3)$, no different than the simple approach tried earlier. The derivation of this time complexity will be done later when we study the Master method.\n",
    "\n",
    "The recursive approach above looks similar to the divide and conquer approach we saw for multiplication of two numbers. A clever trick used in Karatsuba multiplication reduced the number of recursive calls thus reducing the time complexity below $n^2$. Can we do something similar? The Strassen's approach reduces the recursive calls from 8 to 7 thus making the algorithm more efficient. How these 7 multiplications to be performed were discovered are not known and are as follows.\n",
    "\n",
    "\n",
    "$$\n",
    "P_1 = A\\cdot (F - H)\\\\ \n",
    "P_2 = (A + B)\\cdot H\\\\\n",
    "P_3 = (C + D)\\cdot E\\\\\n",
    "P_4 = D\\cdot (G - E)\\\\\n",
    "P_5 = (A + D)\\cdot (E + H)\\\\\n",
    "P_6 = (B - D)\\cdot (G + H)\\\\\n",
    "P_7 = (A - C)\\cdot (E + F)\\\\\n",
    "$$\n",
    "\n",
    "$$\n",
    "X\\cdot T = \n",
    "\\begin{pmatrix} \n",
    "A & B \\\\\n",
    "C & D \n",
    "\\end{pmatrix}\n",
    "\\times\n",
    "\\begin{pmatrix} \n",
    "E & F \\\\\n",
    "G & H \n",
    "\\end{pmatrix}\n",
    "=\n",
    "\\begin{pmatrix} \n",
    "AE + BG  & AF + BH \\\\\n",
    "CE + DG & CF + DH \n",
    "\\end{pmatrix}\n",
    "=\n",
    "\\begin{pmatrix}\n",
    "P_5 + P_4 - P_2 + P_6 & P_1 + P_2\\\\\n",
    "P_3 + P_4 & P_1 + P_5 - P_3 - P_7\n",
    "\\end{pmatrix}\n",
    "$$\n",
    "\n",
    "Following code snippet is an implementation of strassen's matrix multiplication "
   ]
  },
  {
   "cell_type": "code",
   "execution_count": 13,
   "metadata": {},
   "outputs": [],
   "source": [
    "def mult_strassen(X, Y):\n",
    "    dim = len(X[0])\n",
    "    if dim == 1:\n",
    "        return [[X[0][0] * Y[0][0]]]\n",
    "    else:\n",
    "        A = slicemat(X, 0, dim // 2, 0, dim // 2)\n",
    "        B = slicemat(X, 0, dim // 2, dim // 2, dim)\n",
    "        C = slicemat(X, dim // 2, dim, 0, dim // 2)\n",
    "        D = slicemat(X, dim // 2, dim, dim // 2, dim)\n",
    "        E = slicemat(Y, 0, dim // 2, 0, dim // 2)\n",
    "        F = slicemat(Y, 0, dim // 2, dim // 2, dim)\n",
    "        G = slicemat(Y, dim // 2, dim, 0, dim // 2)\n",
    "        H = slicemat(Y, dim // 2, dim, dim // 2, dim)\n",
    "        P1 = mult_dc(A, sub_matrices(F, H))\n",
    "        P2 = mult_dc(add_matrices(A, B), H)\n",
    "        P3 = mult_dc(add_matrices(C, D), E)\n",
    "        P4 = mult_dc(D, sub_matrices(G, E))\n",
    "        P5 = mult_dc(add_matrices(A, D), add_matrices(E, H))\n",
    "        P6 = mult_dc(sub_matrices(B, D), add_matrices(G, H))\n",
    "        P7 = mult_dc(sub_matrices(A, C), add_matrices(E, F))\n",
    "        return hcat(\n",
    "            add_matrices(sub_matrices(add_matrices(P5, P4), P2), P6), \n",
    "            add_matrices(P1, P2)) +  hcat(add_matrices(P3, P4), sub_matrices(add_matrices(P1, P5), add_matrices(P3, P7)))"
   ]
  },
  {
   "cell_type": "code",
   "execution_count": 14,
   "metadata": {},
   "outputs": [
    {
     "data": {
      "text/plain": [
       "[[90, 100, 110, 120],\n",
       " [202, 228, 254, 280],\n",
       " [314, 356, 398, 440],\n",
       " [426, 484, 542, 600]]"
      ]
     },
     "execution_count": 14,
     "metadata": {},
     "output_type": "execute_result"
    }
   ],
   "source": [
    "X = [[1, 2, 3, 4], [5, 6, 7, 8], [9, 10, 11, 12], [13, 14, 15, 16]]\n",
    "mult_strassen(X, X)"
   ]
  },
  {
   "cell_type": "markdown",
   "metadata": {},
   "source": [
    "\n",
    "The time complexity analysis of Strassen's method will be done later when we explore the Master method later."
   ]
  },
  {
   "cell_type": "markdown",
   "metadata": {},
   "source": [
    "\n",
    "#### Find the closest pair\n",
    "\n",
    "The final divide and conquer algorithm would be to find the closest pairs in $O(nlogn)$ time. For the problem we are given n points in a plane and the goal is to find two points with minimum euclidean distance between them.\n",
    "\n",
    "For two points $p_1 = (x_1, y_1)$ and $p_2 = (x_2, y_2)$ the euclidean distance $d(p_1, p_2)$ can be found using $\\sqrt{(x_1 - x_2)^2 + (y_1 - y_2)^2}$\n",
    "\n",
    "Starting with the Brute force approach, we know that the Naive algorithm will compute the distance of all points with all other points and then finds two with minimum distance between them. This algorithm has a time complexity of $O(n^2)$. Quadratic time is certainly not the best algorithm in this case and we should be looking at something better.\n",
    "\n",
    "Let us start with points in 1 dimension. The naive approach still gives us the closest points in 1-D in $O(n^2)$ time. However, just by sorting these points in $O(nlogn)$ time using something like Merge Sort and then doing a linear scan in linear time to find the a pair of points closest to each other is easily achievable. Thus we have a better algorithm than in 1-D then quadratic time to find the closest pair.\n",
    "\n",
    "Let us now see how to find the closest points in 2-D. Let us consider the following points, (0, 0), (1, 1), (0.5, 4), (4, 0.5) and (-2, 2) and plot them to get a visual on them"
   ]
  },
  {
   "cell_type": "code",
   "execution_count": 16,
   "metadata": {},
   "outputs": [
    {
     "data": {
      "image/png": "[encoded data removed]",
      "text/plain": [
       "<Figure size 432x288 with 1 Axes>"
      ]
     },
     "metadata": {
      "needs_background": "light"
     },
     "output_type": "display_data"
    }
   ],
   "source": [
    "import matplotlib.pyplot as plt\n",
    "\n",
    "points = [(0, 0), (1, 1), (0.5, 4), (4, 0.5), (-2, 2)] \n",
    "plt.plot([x[0] for x in points], [x[1] for x in points], 'ro')\n",
    "plt.show()"
   ]
  },
  {
   "cell_type": "markdown",
   "metadata": {},
   "source": [
    "\n",
    "Visually the points (0, 0) and (1, 1) appear to be closest. Just like in case of 1-D let us sort these points by x axis and then by y axis. Thus we get a couple of copies of the original array."
   ]
  },
  {
   "cell_type": "code",
   "execution_count": 17,
   "metadata": {},
   "outputs": [
    {
     "name": "stdout",
     "output_type": "stream",
     "text": [
      "px: [(-2, 2), (0, 0), (0.5, 4), (1, 1), (4, 0.5)] py: [(0, 0), (4, 0.5), (1, 1), (-2, 2), (0.5, 4)]\n"
     ]
    }
   ],
   "source": [
    "px = sorted(points, key = lambda x: x[0])\n",
    "py = sorted(points, key = lambda x: x[1])\n",
    "print('px:', px, 'py:', py)"
   ]
  },
  {
   "cell_type": "markdown",
   "metadata": {},
   "source": [
    "\n",
    "From the above output, we see that the in px and py, the points sorted by x and y corrdinates, the closest pair of points (0, 0) and (1, 1) do not appear consecutively.\n",
    "\n",
    "Our divide and conquer algorithm in 2-D space essetntally does the following\n",
    "\n",
    "1. Define a function ``ClosestPair`` that accepts two inputs, $p_x$ and $p_y$, the points sorted by x and y coordinates respectively.\n",
    "2. Define the following four arrays\n",
    "  - $l_x$: The Left half of $p_x$\n",
    "  - $r_x$: The Right half of $p_x$\n",
    "  - $l_y$: The Left half of $p_x$, sorted by their occurance in $p_y$\n",
    "  - $r_y$: The Right half of $p_x$, sorted by their occurance in $p_y$\n",
    "3. Recursively call ``ClosestPair`` twice by passing $l_x, l_y$ and $r_x, r_y$ to find two pair of points $(l_1, l_2)$ and $(r_1,r_2)$, the closest points on the left and right half respectively.\n",
    "4. We then implement a fuction to find the closes points split in left and right. This is the most challenging bit which we will see later. This function called ``ClosestSplitPair`` returns the pair of points closest to each other but split in left and right halves. We call these points $(s_1, s_2)$\n",
    "5. Return the closest from these three pair of points $(l_1, l_2), (r_1, r_2), (s_1, s_2)$\n",
    "\n",
    "Now assuming that we implement the function ``CloseseSplitPair`` (point 4 above) in linear time, we can implement this entire algorithm in $O(nlogn)$ time as the analysis is very similar to the analysis of Merge sort where we split the input in two and make two recursive calls. Then perform linear work outside the recursive calls.\n",
    "\n",
    "Implementing ``ClosestSplitPair`` is not very straightforward and require us to make a subtle change. The relaxed criteria now is that this function can return garbage if the overall closest split pair is present entirely either on the left or right and needs to return the correct answer only if the overall closest pair is split. With this relaxed criteria we now have\n",
    "\n",
    "$$\\delta := min\\{d(l_1, d_2), d(r_1, r_2)\\}\\\\\n",
    "(s_1, s_2) = ClosestSplitPair(P_x, P_y, \\delta)\\\\\n",
    "return \\: best\\: of\\: (l_1, l_2),\\:(r_1, r_2),\\:(s_1, s_2)\n",
    "$$\n",
    "\n",
    "The modified ``ClosestSplitPair`` works as follows\n",
    "\n",
    "1. Find the right most point in left half of the points sorted by x coordinates. This becomes the median point. We call this point $\\bar{x}$ and since the points are already sorted by x coordinate, this operation is done in $O(1)$.\n",
    "2. We then filter points $S_y := \\{q_1, q_2\\dots q_l\\}$ which are all points by doing a linear scan of $P_y$ and with their x coordinates between $\\bar{x} - \\delta$ and $\\bar{x} + \\delta$. Thus give is a thick strip of width $2\\delta$ around the median $\\bar{x}$. This operation takes linear time.\n",
    "3. Next, we iterate through these points in $S_y$ and look no further than 7 points (or the last point in the list $S_y$, whichever is minimum) to and compute distance between them in Brute force, on each iteration we compare te distance with the best we have and continue in the loop. The upper bound of this loop iterations is $7n \\leq 7n$ and thus this is a linear time operation and the entire ``ClosestSplitPair`` is a linear time operation.\n",
    "\n",
    "\n",
    "Few question still are open.\n",
    "\n",
    "- Why does this algorithm work and guarantees to return an answer\n",
    "- Where did we get this number 7 in the step 3 of the above algorithm. We will now see a proof for the correctness of this algorithm\n",
    "\n",
    "---\n",
    "Proof of correctness of ``ClosestSplitPair``.\n",
    "\n",
    "We start with the following Lemma\n",
    "\n",
    "In the ``ClosestSplitPair``, suppose (p, q) are the closest split pair with $d(p, q) < \\delta$, then \n",
    "\n",
    "- p and q will be included in the set $S_y$\n",
    "- at most 6 points of $S_y$ have a y coordinate in between p and q, or in other words, p and q are not separated by more than 6 points between them in $S_y$\n",
    "\n",
    "\n",
    "The following corollary this follows, if (p, q) is a split pair such that $d(p, q) < \\delta$, then in the ``ClosestSplitPair`` algorithm, the points p and q, by above Lemma, are guaranteed to be present in $S_y$ and are no do not have more than 6 points separating them. Since the routine performs am exhaustive search and satisfies both these conditions, the ``ClosestSplitPair`` thus indeed find the correct points.\n",
    "\n",
    "We will now prove the Lemma we stated earlier. We will prove the two claims one by one. The first one is simple of the two.\n",
    "\n",
    "**p and q will be included in the set $S_y$**\n",
    "\n",
    "*Proof*:\n",
    "\n",
    "* $p = (x_1, y_1),\\:q = (x_2, y_2)$ and $\\delta $ is the minimum of the distance between points on the left of right. The value $\\bar{x}$ is the median, or the **right most** x value of the left half.\n",
    "* Since p and q are split with p in left half and q in right half we can conclude that $x_1 \\leq \\bar{x} < x_2$\n",
    "* $\\delta > d(p, q) = \\sqrt{(x_1 - x_2)^2 + (y_1 - y_2)^2} \\geq \\sqrt{max\\{|x_1 - x_1|, |y_1 - y_2| \\}}$, thus we can say $|x_1 - x_2|, |y_1 - y_2| < \\delta$\n",
    "* Since $x_1 \\leq \\bar{x}$ and $x_2$ is no more than $\\delta$ bigger than $x_1$, we can say $x_2 \\leq \\bar{x} + \\delta$\n",
    "* Similarly, $x_2 > \\bar{x}$ and is no more than $\\delta$ bigger than $x_2$, we can say $x_1 \\geq \\bar{x} - \\delta$\n",
    "* Thus $x_1 - \\delta \\leq \\bar{x} \\leq x_2 - \\delta$, another way of thing about it as follows. Suppose two people are tied with a rope of length delta, then the maximum they can travel around $\\bar{x}$ is, $\\bar{x} - \\delta$ and $\\bar{x} + \\delta$\n",
    "\n",
    "**In the set $S_y$, there are no more than 6 points separating the true closest points, p and q**\n",
    "\n",
    "*Proof*:\n",
    "\n",
    "To prove this point let us draw 8 boxes, each box of size $\\delta / 2$. 4 boxes will be stacked in a grid of $2\\times 2$ on each side of the $\\bar{x}$. The points p and q are split and are present on either side of $\\bar{x}$. From above proof, we know that both these points are present in $S_y$ and their x coordinates are between $\\bar{x} - \\delta$ and $\\bar{x} + \\delta$. From above proof we know that both points p and q also satisfy the condition $|x_1 - x_2|, |y_1 - y_2| < \\delta$\n",
    "\n",
    "Suppose we draw the boxes such that the lower edge of the lower box passes through the point whose y coordinate is minimum of the two points p and q, then the points p and q will appear in one of the 4 boxes on either side of $\\bar{x}$.\n",
    "\n",
    "How many points can these 8 boxes hold? Let us assume  that a box(each of size $\\delta / 2 \\times \\delta/2$) can hold multiple points. The fartest these points can be placed is when they are kept on diagonally opposite corners of this box. By pythagoras theorem, the distance between these points is is $\\sqrt{2}\\cdot \\delta / 2 = \\delta / \\sqrt{2}\\: <\\: \\delta $. Since each box lies entirely on the left of right of $\\bar{x}$, and $\\delta$ is the minimum of the distance between a pair of points on left of right, we can say that no box, each of size $\\delta / 2 \\times \\delta /2$ can contain more than 1 point in it. Since these two points p and q also exist in one of the 8 boxes, we cannot have more than these remaining 6 points between these two points p and q\n",
    "\n",
    "\n",
    "---\n",
    "\n",
    "Let us implement the ``FastPower`` function and analyse its time complexity and the finally implement the ``ClosestPair`` algorithm in python\n",
    "\n",
    "\n",
    "\n"
   ]
  },
  {
   "cell_type": "code",
   "execution_count": 18,
   "metadata": {},
   "outputs": [],
   "source": [
    "def fastpower(a, b):\n",
    "    if b == 1:\n",
    "        return a\n",
    "    else:\n",
    "        res = fastpower(a * a, b // 2)\n",
    "        return res if b % 2 == 0 else res * a\n",
    "            "
   ]
  },
  {
   "cell_type": "code",
   "execution_count": 19,
   "metadata": {},
   "outputs": [
    {
     "name": "stdout",
     "output_type": "stream",
     "text": [
      "2^1 = 2\n",
      "3^2 = 9\n",
      "4^3 = 64\n",
      "5^11 = 48828125\n"
     ]
    }
   ],
   "source": [
    "print('2^1 =',fastpower(2, 1))\n",
    "print('3^2 =',fastpower(3, 2))\n",
    "print('4^3 =',fastpower(4, 3))\n",
    "print('5^11 =',fastpower(5, 11))"
   ]
  },
  {
   "cell_type": "markdown",
   "metadata": {},
   "source": [
    "\n",
    "On each recursive call of fastpower, the value of b halves. Thus the number of times fastpower is called is $log(b)$ times and thus the time complexity of the above function is $O(log(b))$. The log is technically of base 2 but since this is the Big-Oh notation thats not important. On the other hand the simple approach to multiply a b times will have the time complexity $O(b)$\n",
    "\n"
   ]
  },
  {
   "cell_type": "code",
   "execution_count": 20,
   "metadata": {},
   "outputs": [],
   "source": [
    "from math import sqrt\n",
    "\n",
    "def euclidean(p1, p2):\n",
    "    return sqrt(pow(abs(p1[0] - p2[0]), 2) + pow(abs(p1[1] - p2[1]), 2))\n",
    "  \n",
    "def ClosestSplitPair(sy, best, delta):\n",
    "    if len(sy) > 1:\n",
    "        for i in range(len(sy)):\n",
    "            for j in range(i + 1, min(7, len(sy) - i)):\n",
    "                dist = euclidean(sy[i], sy[j])\n",
    "                if dist < delta:\n",
    "                    delta = dist\n",
    "                    best = (sy[i], sy[j])\n",
    "    return best, delta\n",
    "    \n",
    "def ClosestPair(px, py): \n",
    "    if len(px) <= 3:\n",
    "        delta  = float('inf')\n",
    "        best = (None, None)\n",
    "        #Bruteforce if the length comes to 2 or 3 \n",
    "        for i in range(len(px)):\n",
    "            for j in range(i + 1, len(px)):\n",
    "                dist = euclidean(px[i], px[j])\n",
    "                if dist < delta:\n",
    "                    delta = dist\n",
    "                    best = (px[i], px[j])\n",
    "                \n",
    "        return best, delta\n",
    "    \n",
    "        \n",
    "    lpx = px[0:(len(px) // 2)]\n",
    "    rpx = px[(len(px) // 2):]\n",
    "    lpy = [x for x in py if x in lpx]\n",
    "    rpy = [x for x in py if x in rpx] #Succinct, but the composition runs in quadratic time.\n",
    "    l, ld = ClosestPair(lpx, lpy)\n",
    "    r, rd = ClosestPair(rpx, rpy)\n",
    "    best, delta = (l, ld) if ld < rd else (r, rd)\n",
    "    median = px[len(px) // 2]\n",
    "    sy = [x for x in py if x[0] + delta >= median[0] or median[0] + delta >= x[0]]\n",
    "    s, sd = ClosestSplitPair(sy, best, delta)\n",
    "    return (best, delta) if delta < sd else (s, sd)\n",
    "    "
   ]
  },
  {
   "cell_type": "code",
   "execution_count": 21,
   "metadata": {},
   "outputs": [
    {
     "name": "stdout",
     "output_type": "stream",
     "text": [
      "Point 1: (0, 0) Point 2: (1, 1) Min distance: 1.4142135623730951\n"
     ]
    }
   ],
   "source": [
    "(p1, p2), mindist = ClosestPair(px, py)\n",
    "print('Point 1:', p1, 'Point 2:', p2, 'Min distance:', mindist)"
   ]
  },
  {
   "cell_type": "markdown",
   "metadata": {},
   "source": [
    "Based on the 5 points we have, this does seem to be a right answer. We donot have an exhaustive test set to test our implementation.\n",
    "\n",
    "---\n",
    "\n",
    "#### Problem 3.2\n",
    "Given a Unimodal array of unique numbers(values sorted in ascending order followed by values in descending order), the goal is to find the maximum element in $O(log\\:n)$ time"
   ]
  },
  {
   "cell_type": "code",
   "execution_count": 22,
   "metadata": {},
   "outputs": [],
   "source": [
    "def max_in_unimodal(array):\n",
    "    if len(array) == 1:\n",
    "        return array[0]\n",
    "    if len(array) == 2:\n",
    "        return max(array[0], array[1])\n",
    "    m = len(array) // 2\n",
    "    if array[m - 1] < array[m] and array[m] < array[m + 1]:\n",
    "        #Increasing sequence, continue on right\n",
    "        return max_in_unimodal(array[m + 1 :])\n",
    "    elif array[m - 1] > array[m] and array[m] > array[m + 1]:\n",
    "        #Decreasing sequence, look on left\n",
    "        return max_in_unimodal(array[0: m])\n",
    "    else:\n",
    "        return array[m]\n",
    "        "
   ]
  },
  {
   "cell_type": "code",
   "execution_count": 23,
   "metadata": {},
   "outputs": [
    {
     "name": "stdout",
     "output_type": "stream",
     "text": [
      "max_in_unimodal([1, 2, 3, 4, 3, 2]) gives 4\n",
      "max_in_unimodal([1]) gives 1\n",
      "max_in_unimodal([1, 2]) gives 2\n",
      "max_in_unimodal([2, 1]) gives 2\n",
      "max_in_unimodal([1, 2, 3, 4, 5]) gives 5\n"
     ]
    }
   ],
   "source": [
    "print('max_in_unimodal([1, 2, 3, 4, 3, 2]) gives', max_in_unimodal([1, 2, 3, 4, 3, 2]))\n",
    "print('max_in_unimodal([1]) gives', max_in_unimodal([1]))\n",
    "print('max_in_unimodal([1, 2]) gives', max_in_unimodal([1, 2]))\n",
    "print('max_in_unimodal([2, 1]) gives', max_in_unimodal([2, 1]))\n",
    "print('max_in_unimodal([1, 2, 3, 4, 5]) gives', max_in_unimodal([1, 2, 3, 4, 5]))"
   ]
  },
  {
   "cell_type": "markdown",
   "metadata": {},
   "source": [
    "---\n",
    "\n",
    "#### Problem 3.3\n",
    "\n",
    "Given a sorted array of n distinct integers which can be positive, negative or zero, we want to decide if there is an index i such that A[i] = i in fastest possible time.\n"
   ]
  },
  {
   "cell_type": "code",
   "execution_count": 24,
   "metadata": {},
   "outputs": [],
   "source": [
    "def does_value_equal_index(array, reduced_on_left = 0):\n",
    "    if len(array) == 0:\n",
    "        return False\n",
    "    else:\n",
    "        m = len(array) // 2\n",
    "        diff = array[m] - m - reduced_on_left\n",
    "        if diff < 0:\n",
    "            #No smaller number will have a[i] == 1, look right, also pass the number of elements reduced on left\n",
    "            return does_value_equal_index(array[m + 1:], reduced_on_left + m + 1)\n",
    "        elif diff > 0:\n",
    "            #No possible to have a[i] == 1 on right, look on left, number reduced on the left did not change \n",
    "            return does_value_equal_index(array[0:m], reduced_on_left)\n",
    "        else:\n",
    "            return True\n",
    "        \n",
    "        "
   ]
  },
  {
   "cell_type": "code",
   "execution_count": 25,
   "metadata": {},
   "outputs": [
    {
     "name": "stdout",
     "output_type": "stream",
     "text": [
      "does_value_equal_index([-5, -4, -3, -2]) returns  False\n",
      "does_value_equal_index([-5, -4, 2, 10]) returns  True\n",
      "does_value_equal_index([-5, -4, 1, 10]) returns  False\n",
      "does_value_equal_index([1, 2, 3]) returns  False\n",
      "does_value_equal_index([-1, 0, 1, 2, 4, 5, 7]) returns  True\n"
     ]
    }
   ],
   "source": [
    "print('does_value_equal_index([-5, -4, -3, -2]) returns ', does_value_equal_index([-5, -4, -3, -2]))\n",
    "print('does_value_equal_index([-5, -4, 2, 10]) returns ', does_value_equal_index([-5, -4, 2, 10]))\n",
    "print('does_value_equal_index([-5, -4, 1, 10]) returns ', does_value_equal_index([-5, -4, 1, 10]))\n",
    "print('does_value_equal_index([1, 2, 3]) returns ', does_value_equal_index([1, 2, 3]))\n",
    "print('does_value_equal_index([-1, 0, 1, 2, 4, 5, 7]) returns ', does_value_equal_index([-1, 0, 1, 2, 4, 5, 7]))"
   ]
  },
  {
   "cell_type": "markdown",
   "metadata": {},
   "source": [
    "\n",
    "The complexity of the above function is $O(log\\: n)$ as we reduce the array in half as we proceed in each recursive call."
   ]
  },
  {
   "cell_type": "markdown",
   "metadata": {},
   "source": [
    "\n",
    "---\n",
    "\n",
    "#### Problem 3.4\n",
    "\n",
    "Find local minima of an $n \\times n$ matrix by performing $O(n)$ comparison.\n",
    "\n",
    "We will see two implementations, an easy one which does $O(nlog\\: n)$ comparisons and performs reasonably well. Another one is an implementation that does linear number of comparisons.\n",
    "\n",
    "We will use numpy to store matrices as it becomes easy to slice. Following is a simple and an implementation with $O(nlog\\: n)$ time guarantee"
   ]
  },
  {
   "cell_type": "code",
   "execution_count": 26,
   "metadata": {},
   "outputs": [],
   "source": [
    "import numpy as np\n",
    "\n",
    "#Assumption is that the matrix has unique numbers\n",
    "def localminima1(matrix):\n",
    "    m = matrix.shape[1] // 2  #Num cols\n",
    "    i_minval = np.argmin(matrix[:,m])      # Done in O(n)\n",
    "    min_val = matrix[i_minval, m]\n",
    "    #Comparison done in constant time, the recursive calls would be done log n times\n",
    "    left_val = matrix[i_minval, m - 1] if m > 0 else float('inf')\n",
    "    right_val = matrix[i_minval, m + 1] if m < matrix.shape[1] - 1 else float('inf')\n",
    "    if min_val < left_val and min_val < right_val:\n",
    "        return (m, i_minval)\n",
    "    else:\n",
    "        return localminima1(matrix[:, 0:m]) if left_val < min_val else localminima1(matrix[:, (m + 1):])\n"
   ]
  },
  {
   "cell_type": "code",
   "execution_count": 27,
   "metadata": {},
   "outputs": [
    {
     "name": "stdout",
     "output_type": "stream",
     "text": [
      "Input is\n",
      " [[ 1  2  5  4]\n",
      " [ 0 -2  9  6]\n",
      " [ 7 -1  3 10]\n",
      " [11 12 13 14]]\n",
      "\n",
      "A local minima is at (1, 1) with value -2\n"
     ]
    }
   ],
   "source": [
    "array = np.matrix([[1, 2, 5, 4], [0, -2, 9, 6], [7, -1, 3, 10], [11, 12, 13, 14]])\n",
    "print('Input is\\n',array)\n",
    "ix = localminima1(array)\n",
    "print('\\nA local minima is at', ix, 'with value', array[ix])"
   ]
  },
  {
   "cell_type": "code",
   "execution_count": 28,
   "metadata": {},
   "outputs": [],
   "source": [
    "import numpy as np\n",
    "\n",
    "#Use window to find the minimum value and then find the recursively find the local minima in a quadrant.\n",
    "#For simplicity I assume the matrix is square\n",
    "#We find the minumum in a window. A window for a matrix is as follows,\n",
    "#  ***********\n",
    "#  *----*----*\n",
    "#  *----*----*\n",
    "#  ***********\n",
    "#  *----*----*\n",
    "#  *----*----*\n",
    "#  ***********\n",
    "#\n",
    "# All elements denoted by star form a part if window.\n",
    "# We find the minimum value from this window and check if thats a local minima. If, it isn't,\n",
    "# recursively repeat this operation on one of the quadrants\n",
    "\n",
    "\n",
    "def min_idx_in_window(matrix):\n",
    "    #Find the index of the minimum element in the window of the matrix\n",
    "    #top, bottom, left, right, mid_hor, mid_ver], \n",
    "    #Its a linear time operation\n",
    "    r, c =matrix.shape\n",
    "    ix = [\n",
    "     (0, np.argmin(matrix[0,:])), #Index if min in top row\n",
    "     ( r - 1, np.argmin(matrix[-1,:])), #Index of min in bot row\n",
    "     (np.argmin(matrix[:,0]), 0), #Index of min on left\n",
    "     (np.argmin(matrix[:, -1]), c -1), #Index of min on right \n",
    "     (r // 2, np.argmin(matrix[r // 2, :])), #Index of min in horizontal strip in middle\n",
    "     (np.argmin(matrix[:, c // 2]), c // 2) #Index of min in vertical strip in middle\n",
    "    ]\n",
    "    ix_minof_min = np.argmin([matrix[i] for i in ix])\n",
    "    ix_min = ix[ix_minof_min]\n",
    "    return ix_min\n",
    "    \n",
    "\n",
    "def is_local_minima(matrix, ix):\n",
    "    #Tests if the given index a local minima in the given matrix, its a constant time operation\n",
    "    nrows, ncols = matrix.shape\n",
    "    minval = matrix[ix]\n",
    "    left = matrix[ix[0] - 1, ix[1]] if ix[0] > 0 else float('inf')\n",
    "    right = matrix[ix[0] + 1, ix[1]] if (ix[0] + 1) < nrows  else float('inf')\n",
    "    top = matrix[ix[0], ix[1] - 1] if ix[1] > 0 else float('inf')\n",
    "    bot = matrix[ix[0], ix[1] + 1] if (ix[1] + 1) < ncols  else float('inf')\n",
    "    return minval < left and minval < right and minval < top and minval < bot\n",
    " \n",
    "def get_quadrant_to_recurse(matrix, min_ix, dr, dc):\n",
    "    #From this min_ix, find the adjacent value not in window to find the quadrant it is in.\n",
    "    #the method also finds the delta for the row and col. This is needed to locate the current position of quadrant\n",
    "    #in the entire matrix as the final coordinates to return are the ones in the original matrix.\n",
    "    ri, ci = min_ix\n",
    "    n_rows, n_cols = matrix.shape\n",
    "    min_val = matrix[min_ix]\n",
    "    if ri == 0: #Top row, \n",
    "        #Since there is only one neighbor and the value at min_ix is not local minima, the value\n",
    "        #underneath will be less than the value a min_ix and thus we have quadtants as one of the top \n",
    "        quadrant = 1 if ci < n_cols // 2 else 2\n",
    "    elif ri == (n_rows - 1): #bottom row, \n",
    "        quadrant = 3 if ci < n_cols // 2 else 4\n",
    "    elif ci == 0: # Left edge\n",
    "        quadrant = 1 if ri < n_rows // 2 else 3\n",
    "\n",
    "    elif ci == (n_cols - 1): # right edge\n",
    "        quadrant = 2 if ri < n_rows // 2 else 4\n",
    "        \n",
    "    elif ri == n_rows //2: ## Horizontal slice if window\n",
    "        if ci < n_cols // 2:\n",
    "            quadrant = 1 if matrix[ri - 1, ci] < min_val else 3\n",
    "        else:\n",
    "            quadrant = 2 if matrix[ri - 1, ci] < min_val else 4\n",
    "    elif ci == n_cols // 2: ## Vertical slice of window\n",
    "        if ri < n_rows // 2:\n",
    "            quadrant = 1 if matrix[ri, ci - 1] < min_val else 2\n",
    "        else:\n",
    "            quadrant = 3 if matrix[ri, ci - 1] < min_val else 4\n",
    "\n",
    "    if quadrant == 1:\n",
    "        return matrix[1:(n_rows //2), 1:(n_cols //2)], dr + 1, dc + 1\n",
    "    elif quadrant == 2:\n",
    "        return matrix[1:(n_rows //2), n_cols // 2 + 1:-1], dr + 1, dc + n_cols // 2 + 1\n",
    "    elif quadrant == 3:\n",
    "        return matrix[(n_rows // 2 + 1):-1, 1:(n_cols //2)], dr + n_rows // 2 + 1, dc + 1\n",
    "    elif quadrant == 4:\n",
    "        return matrix[(n_rows // 2 + 1):-1, n_cols // 2 + 1:-1], dr + n_rows // 2 + 1, dc + n_cols // 2 + 1\n",
    "    \n",
    "    \n",
    "\n",
    "def localminima11(matrix, dr = 0, dc = 0):\n",
    "    ncols = matrix.shape[1]\n",
    "    nrows = matrix.shape[0]\n",
    "    #For row of col vectors, the min is the local minima.\n",
    "    if nrows == 1:\n",
    "        return (dr, dc + np.argmin(matrix))\n",
    "    elif ncols == 1:\n",
    "        return (dr + np.argmin(matrix), dc)    \n",
    "    \n",
    "    min_win_idx = min_idx_in_window(matrix)\n",
    "    return min_win_idx if is_local_minima(matrix, min_win_idx) else localminima11(* get_quadrant_to_recurse(matrix, min_win_idx, dr, dc))\n",
    "    "
   ]
  },
  {
   "cell_type": "markdown",
   "metadata": {},
   "source": [
    "---\n",
    "\n",
    "#### Problem 3.5\n",
    "\n",
    "Already implemented and tested in the Notebook earlier"
   ]
  },
  {
   "cell_type": "code",
   "execution_count": 29,
   "metadata": {},
   "outputs": [
    {
     "name": "stdout",
     "output_type": "stream",
     "text": [
      "Input is\n",
      " [[ 1  2  5  4]\n",
      " [ 0 -2  9  6]\n",
      " [ 7 -1  3 10]\n",
      " [11 12 13 14]]\n",
      "\n",
      "A local minima is at (1, 1) with value -2\n"
     ]
    }
   ],
   "source": [
    "array = np.matrix([[1, 2, 5, 4], [0, -2, 9, 6], [7, -1, 3, 10], [11, 12, 13, 14]])\n",
    "print('Input is\\n',array)\n",
    "ix = localminima1(array)\n",
    "print('\\nA local minima is at', ix, 'with value', array[ix])"
   ]
  },
  {
   "cell_type": "markdown",
   "metadata": {},
   "source": [
    "---\n",
    "\n",
    "TODO: Prepare some test data for test of local minima implementation\n",
    "\n",
    "---\n",
    "\n",
    "An informal proof for the running time of the algorithm implemented in function ``localminima11`` is as follows\n",
    "\n",
    "- For a given matrix of size n we work on $6n$ (the elements in the window) to find the minimum\n",
    "- The operation to check if the minimum element in the window is a local minima is a constant time operation.\n",
    "- If not, we recursively perform the operation in point 1 on a $\\frac{n}{2}\\times \\frac{n}{2}$ array.\n",
    "- Thus for a very large n we perform the following number of operations\n",
    "\n",
    "$6\\cdot n + 6\\cdot \\frac{n}{2} + 6\\cdot \\frac{n}{4} \\dots \\: = 6\\cdot n (1 + \\frac{1}{2} + \\frac{1}{4} \\dots) \\leq 6n\\cdot 2 = 12\\cdot n$\n",
    "\n"
   ]
  },
  {
   "cell_type": "code",
   "execution_count": null,
   "metadata": {},
   "outputs": [],
   "source": []
  }
 ],
 "metadata": {
  "kernelspec": {
   "display_name": "Python 3",
   "language": "python",
   "name": "python3"
  },
  "language_info": {
   "codemirror_mode": {
    "name": "ipython",
    "version": 3
   },
   "file_extension": ".py",
   "mimetype": "text/x-python",
   "name": "python",
   "nbconvert_exporter": "python",
   "pygments_lexer": "ipython3",
   "version": "3.7.1"
  }
 },
 "nbformat": 4,
 "nbformat_minor": 2
}

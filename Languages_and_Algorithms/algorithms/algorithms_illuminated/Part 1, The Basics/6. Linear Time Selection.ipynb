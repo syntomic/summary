{
 "cells": [
  {
   "cell_type": "markdown",
   "metadata": {},
   "source": [
    "### Linear Time Selection\n",
    "\n",
    "In this notebook we will look at two types of selection algorithms, the RSelect, or the randomized selection algorithm and a deterministic version called DSelect. But before we proceed the question is \"What is selection?\" A selection problem aims to find the $i^{th}$ smallest number for n given numbers. The simplest approach would be to sort the input array and then select the $i^{th}$ position number essentially doing the selection in $nlogn$ time. This however is not the optimum way as selection if an easier problem than sorting and thus we should achieve this in much less running time than sorting. To select a number from n given numbers, we will have to view all the numbers at the minimum and thus $O(n)$ is a reasonable lower bound and we know that sorting can be done in $O(nlogn)$ which is an upperbound for our problem.\n",
    "\n",
    "Can we do something to possibly perform the selection in $O(n)$ time? Let us implement the selection problem using the partition routine we used in quick sort.\n",
    "\n"
   ]
  },
  {
   "cell_type": "code",
   "execution_count": 1,
   "metadata": {},
   "outputs": [],
   "source": [
    "def swap(in_array, ix1, ix2):\n",
    "    t = in_array[ix1]\n",
    "    in_array[ix1] = in_array[ix2]\n",
    "    in_array[ix2] = t\n",
    "    \n",
    "def partition(in_array, start_ix, end_ix):\n",
    "      \n",
    "    partition_idx = start_ix\n",
    "    i = start_ix\n",
    "    pivot = in_array[partition_idx]\n",
    "    for idx in range(start_ix + 1, end_ix):\n",
    "        if in_array[idx] <=  pivot:\n",
    "            i += 1\n",
    "            if idx != i:\n",
    "                swap(in_array, i, idx)\n",
    "\n",
    "    swap(in_array, start_ix, i)\n",
    "    partition_idx = i\n",
    "    return partition_idx\n",
    "\n",
    "def RSelect(array, i, start_ix = 0, end_ix = -1):\n",
    "    #From a given array, find the ith order statistic\n",
    "    end_ix = len(array) if end_ix == -1 else end_ix    \n",
    "    pivot_idx  = partition(array, start_ix, end_ix)    \n",
    "    stat = pivot_idx - start_ix + 1\n",
    "    \n",
    "    if i == stat:\n",
    "        return array[pivot_idx]\n",
    "    elif i < stat:\n",
    "        return RSelect(array, i, start_ix, pivot_idx)\n",
    "    else:\n",
    "        return RSelect(array, i - stat, pivot_idx + 1, end_ix)"
   ]
  },
  {
   "cell_type": "code",
   "execution_count": 2,
   "metadata": {},
   "outputs": [
    {
     "name": "stdout",
     "output_type": "stream",
     "text": [
      "1st Order stat is 1\n",
      "2nd Order stat is 2\n",
      "3rd Order stat is 3\n",
      "4th Order stat is 4\n",
      "5th Order stat is 5\n",
      "6th Order stat is 6\n",
      "7th Order stat is 7\n",
      "8th Order stat is 8\n"
     ]
    }
   ],
   "source": [
    "print('1st Order stat is', RSelect([3, 8, 2, 5, 1, 4, 7, 6], 1))\n",
    "print('2nd Order stat is', RSelect([3, 8, 2, 5, 1, 4, 7, 6], 2))\n",
    "print('3rd Order stat is', RSelect([3, 8, 2, 5, 1, 4, 7, 6], 3))\n",
    "print('4th Order stat is', RSelect([3, 8, 2, 5, 1, 4, 7, 6], 4))\n",
    "print('5th Order stat is', RSelect([3, 8, 2, 5, 1, 4, 7, 6], 5))\n",
    "print('6th Order stat is', RSelect([3, 8, 2, 5, 1, 4, 7, 6], 6))\n",
    "print('7th Order stat is', RSelect([3, 8, 2, 5, 1, 4, 7, 6], 7))\n",
    "print('8th Order stat is', RSelect([3, 8, 2, 5, 1, 4, 7, 6], 8))"
   ]
  },
  {
   "cell_type": "markdown",
   "metadata": {},
   "source": [
    "We will test the implementation with some of the test data given [here](http://theory.stanford.edu/~tim/algorithmsilluminated.html)"
   ]
  },
  {
   "cell_type": "code",
   "execution_count": 3,
   "metadata": {},
   "outputs": [
    {
     "name": "stdout",
     "output_type": "stream",
     "text": [
      "5th Order statistic of the content expected to be 5469, got 5469\n",
      "50th Order statistic of the content expected to be 4715, got 4715\n"
     ]
    }
   ],
   "source": [
    "with open('problem6.5test1.txt', 'r') as f:\n",
    "    linest1 = [int(line.strip()) for line in f.readlines()]\n",
    "\n",
    "with open('problem6.5test2.txt', 'r') as f:\n",
    "    linest2 = [int(line.strip()) for line in f.readlines()]\n",
    "\n",
    "print('5th Order statistic of the content expected to be 5469, got', RSelect(linest1, 5))\n",
    "print('50th Order statistic of the content expected to be 4715, got', RSelect(linest2, 50))"
   ]
  },
  {
   "cell_type": "markdown",
   "metadata": {},
   "source": [
    "\n",
    "\n",
    "From above tests, the randomized implementation works in place with constant extra memory and works on a similar way quick sort does. The only difference is that after partition we either recurse on the left or the right side of the array unlike sorting where we recurse on both partitions around pivot. We will prove that the above algorithm runs in linear time.\n",
    "\n",
    "---\n",
    "**Intutition**\n",
    "\n",
    "The partition sub routine does exactly what it does in case of quick sort. Once we choose the partition routine, we know in linear time, what position the pivot element will end up in after the recursve calls. Once we know that value, we can then recurse on the left or the right split after the pivot. In the best case suppose we end up picking the median of the input array as pivot, in which case the array will be split in exactly halves. Since we always do linear work outside the recursive calls, we can express our recurrance as follows\n",
    "$$T(n)\\:=\\:T(\\frac{n}{2}) + O(n) $$\n",
    "\n",
    "By master method, a = 1, b = 2 and d = 1, we have $a < b^d$ which is case 2 of the master method. The running time is in this case dominated by the work done outside recursive calls giving us the time as $O(n^d)$ = $O(n)$ in this case. This shows us that if we get an approximate median and split the array into two approximately equal pieces, we can expect the selection problem to run in linear time. Let us see how exactly we get linear time on an average for a given array using the following proof.\n",
    "\n",
    "---\n",
    "**Proof**\n",
    "\n",
    "We will track the progress of our selection problem in phases. we will call the problem is in phase j if it is operating on an array of length $(\\frac{3}{4})^{j + 1}$ to $(\\frac{3}{4})^{j}$. For example, it will be in phase 0, if the size of the array is between 0.75n to n, phase 1 of the size array is 0.56n to 0.75n and so on. The maximum value of phase j when the value of the input size will be 1 should be $log_{4/3}n$.\n",
    "\n",
    "We will now define a random variable $X_j$ which gives is the number of times the selection process made recursive calls in phase j. The minimum value of this variable is 0.\n",
    "\n",
    "The maximum size of the array in phase j is $(\\frac{3}{4})^j$ and thus the work done in this phase is no more than $c\\cdot (\\frac{3}{4})^j \\cdot n$. Thus\n",
    "\n",
    "$$Running\\:time\\:of\\:RSelect\\:is\\:\\leq \\sum_{j \\geq 0} c\\cdot (\\frac{3}{4})^j\\cdot n X_j$$\n",
    "\n",
    "By linearity of expectations\n",
    "\n",
    "$$E[Running\\:time\\:of\\:RSelect\\:is]\\:\\leq cn \\sum_{j \\geq 0} (\\frac{3}{4})^jE[X_j]$$\n",
    "\n",
    "How do we find $E[X_j]$?\n",
    "\n",
    "Whenever we choose an approximate median as pivot, a number that gives us 25-75% split of the input array, we are guaranteed to procees to next phase. If only when the split produces an array giving is greater than 75% of elements remaining after partition, we stay in the phase j for another recursive call. Thus we can conclude, picking an approximate median is guaranteed to take us to next phase.\n",
    "\n",
    "Secondly, picking an approximate median has a probability of 50%. Suppose we have n numbers say, 1 to 100, then by picking anything from 26 to 75 is an approximate median which makes up 50% of the input numbers.\n",
    "\n",
    "The random variable $X_j$ is similar to a coin flipping problem. Suppose N is a random variable which counts the number of times we need to flip the coin to get heads (or tails).\n",
    "\n",
    "The random variable $X_j$ and $N$ are similar but the $E[X_j] \\leq E[N]$\n",
    "\n",
    "- The coin flopping experiment has to flip the coin atleast once to get heads. The value of X_j can be 0 if we completely skip the phase.\n",
    "- We have maximum probability of 0.5 of not going out of phase j and staying in the same phase. This is similar to 0.5 probability we get tails and we we need to flip the coin another time.\n",
    "\n",
    "The expected value of the coin flip experiment is \n",
    "\n",
    "$E(N)\\: = \\: 1\\: +\\: \\frac{1}{2}E(N)$\n",
    "\n",
    "The only value of E(N) that satisfies the above equation is 2. The equation is explained as follows. The value 1 is for that minimum one flip needed and the value 0.5 is the probability that we get tails. We can thus say that $E(X_j) \\leq 2$\n",
    "\n",
    "Geometric sequence $1\\: + \\: r^2\\: + \\: r^3 \\dots r^k = \\frac{1 - r^{k + 1}}{1 - r}$\n",
    "\n",
    "This $\\sum_{j \\geq 0} (\\frac{3}{4})^j\\: \\leq\\: \\frac{1}{1 - \\frac{3}{4}} = 4$\n",
    "\n",
    "Therefore, \n",
    "$E[Running\\:time\\:of\\:RSelect\\:is]\\:\\leq cn \\sum_{j \\geq 0} (\\frac{3}{4})^jE[X_j] = 4\\cdot 2cn = 8cn$\n",
    "\n",
    "Hence, the running time of randomized select algorithm on an average runs in $O(n)$\n",
    "\n",
    "---\n",
    "\n",
    "Next we will look at an algorithm which does the selection in linear time and is deterministic. Its called **DSelect** in our notebook\n",
    "\n",
    "We will analyze the running time of the algorithm. For Pseudo code of the algorithm refer page 169 of the book.\n",
    "\n",
    "The first time consuming activity of DSelect is to find the median of medians. For this purpose we find the break  the input array in batches of 5 and find medians of each of these splits of 5. This way we find the a total of $\\frac{n}{5}$ medians. We recursively keep finding the medians of medians till we hit the base case where we only one element in the input array. To illustrate this, consider we have the following input array\n",
    "\n",
    "11, 6, 10, 2, 15, 8, 1, 7, 14, 3, 9, 12, 4, 5, 13\n",
    "\n",
    "We break find medians of the splits of 5 of the array giving us 10 (median of 11, 6, 10, 2, 15), 7 (median of 8, 1, 7, 14, 3, 9) and 9 median of (9, 12, 4, 5, 13). Median of these three medians is 9 and thus this is the pivot of our choice.\n",
    "\n",
    "Finding median of 5 numbers is a constant time activity and let that constant be c. We operate on an array of $\\frac{n}{5}$ to find medians. Thus the time taken to find the medians of medians is $\\frac{n}{5}\\cdot c$ = $O(n)$\n",
    "\n",
    "Thus find median of medians is a Linear time operation.\n",
    "\n",
    "The median of medians is found by calling DSelect recursively on an array of size $\\frac{n}{5}$ and then the partition, which is done in linear time, determines the statistic of the pivot element (the median of medians). Based on the $i{th}$ order statistic we are interested in, we either recurse on the portion of the input to the left of the pivot or the one on the right. We therefore have two sub problems\n",
    "\n",
    "1. The Dselect called on $\\frac{n}{5}$ array to find median of medians\n",
    "2. The second recursive call on DSelect on the reduced array.\n",
    "\n",
    "Outside the recursive call, the DSelect does linear work to find the medians and to partition the numbers around pivot. Therefore the recurrence is \n",
    "\n",
    "$T(n)\\: \\leq \\: T(\\frac{n}{5})\\:+\\:T(?)\\:+ O(n)\\:$\n",
    "\n",
    "Right now we are interested in deterministically find $T(?)$\n",
    "\n",
    "For this purpose we introduce the 30-70 Lemma (which we will prove later). This Lemma states that the median of medians is no less than at least 60% of elements in at least 50% of the groups of 5 and no greater than at least 60% of at least 50% of groups of 5. The value 60% of 50% is 0.6 * 0.5 = 30%. This sounds confusing, but it essentially says that there are at least 30% numbers in the input array those are smaller than the partition element (median of medians), and there are at least 30% of numbers in the input array those are larger than the partition element. The result of this is, that under no circumstance we will get the split around partition greater than 70% of original input. Therefore, $T(?) \\leq T(\\frac{7n}{10})$ hence the running time of DSelect is \n",
    "\n",
    "$T(n)\\: \\leq \\: T(\\frac{n}{5})\\:+\\:T(\\frac{7n}{10})\\:+ O(n)\\:$\n",
    "\n",
    "We will prove the algorithm runs in linear time using induction. We assume that for k < n, $T(k) \\leq lk$\n",
    "\n",
    "We will assign l to some arbritrary constant independent of n, for our derivation we will assign l = 10c. This is a legitimate assumption as for the base case we know T(1) = 1. Since $c\\geq 1$, $T(1) \\leq 10c$\n",
    "\n",
    "Therefore for $n\\geq 2$\n",
    "\n",
    "$T(n)\\: \\leq \\: l\\frac{n}{5}\\:+\\:l\\frac{7n}{10}\\:+ cn\\: = \\frac{9ln}{10}\\:+ cn\\: = 9cn + cn = 10cn = l\\cdot n$\n",
    "\n",
    "This proves the indictive step that the $T(n)\\: \\leq l\\cdot n\\:=\\:O(n)$\n",
    "\n",
    "\n",
    "We are still to prove the 30-70 Lemma. The simple explanation is as follows.\n",
    "\n",
    "- Consider k number arrays each of length 5. For simplicity lets assume k is 5. Thus there are two medians smaller and two medians larger than the median or medians (mom). We call them $s_1$, $s_2$ and $l_1$, $l_2$ respectively.\n",
    "- We can therefore conclusively say that no more than 3 of 5, which is 60% of numbers including the medians in $s_1$ and $s_2$ and the minimum 2 numbers in the same batch of 5 as mom are smaller than mom.\n",
    "- Similarly, we can therefore conclusively say that no more than 3 of 5, which is 60% of numbers including the medians in $l_1$ and $l_2$ and the maximum 2 numbers in the same batch of 5 as mom are larger than mom.\n",
    "- Thus for this example where k = 5 (n = 25). Minimum 8 numbers are smaller than mom and minimum 8 numbers are larger than mom. The next recursive call will not have the pivot and either of these 8 numbers which makes it 9 numbers minimum. This means the maximum size of the array we can have is 16 which is 64% of input array.\n",
    "\n",
    "This generalization holds true for any large value of k and we are guaranteed to not have more than 70% of original input passed to the subsequent recursive call.\n",
    "\n",
    "TODO: Complete the implementation below.\n"
   ]
  },
  {
   "cell_type": "code",
   "execution_count": 4,
   "metadata": {},
   "outputs": [],
   "source": [
    "\n",
    "#Finds index of median in constant time in the context of DSelect as the size of array is maximum 5,\n",
    "#assuming that we have the array of\n",
    "def median_ix(array):\n",
    "    med = sorted(array)[len(array) // 2]\n",
    "    return [i for i in range(0, len(array)) if array[i] == med][0]\n",
    "\n",
    "def median_of_medians(in_array, start_ix, end_ix):\n",
    "    splits = [(in_array[i:min(i + 5, end_ix)], median_ix(in_array[i:min(i + 5, end_ix)])) for i in range(start_ix, end_ix, 5)]\n",
    "    if len(splits) > 1:\n",
    "        median, median_idx = median_of_medians([split[i] for (split, i) in splits], 0, len(splits))\n",
    "    else:        \n",
    "        split = splits[0]\n",
    "        return split[0][split[1]], start_ix + split[1]\n",
    "        \n",
    "    array_split, i = splits[median_idx]\n",
    "    return array_split[i], start_ix + i + median_idx * 5\n",
    "\n",
    "\n",
    "def DSelect(in_array, i, start_ix = 0, end_ix = -1):\n",
    "    end_ix = len(in_array) if end_ix == -1 else end_ix  \n",
    "    #Note that we dont really use DSelect recursively to reduce the complexity of the code, instead we recursively\n",
    "    #Call another function. The running time analysis however stays the same\n",
    "    median_of_median, ix = median_of_medians(in_array, start_ix, end_ix)\n",
    "    swap(in_array, start_ix, ix)\n",
    "    pivot_idx = partition(in_array, start_ix, end_ix)\n",
    "    stat = pivot_idx - start_ix + 1\n",
    "\n",
    "    if i == stat:        \n",
    "        return in_array[pivot_idx]\n",
    "    elif i < stat:\n",
    "        return DSelect(in_array, i, start_ix, pivot_idx)\n",
    "    else:\n",
    "        return DSelect(in_array, i - stat, pivot_idx + 1, end_ix)\n"
   ]
  },
  {
   "cell_type": "code",
   "execution_count": 5,
   "metadata": {},
   "outputs": [
    {
     "name": "stdout",
     "output_type": "stream",
     "text": [
      "1st Order stat is 1\n",
      "2nd Order stat is 2\n",
      "3rd Order stat is 3\n",
      "4th Order stat is 4\n",
      "5th Order stat is 5\n",
      "6th Order stat is 6\n",
      "7th Order stat is 7\n",
      "8th Order stat is 8\n"
     ]
    }
   ],
   "source": [
    "print('1st Order stat is', DSelect([3, 8, 2, 5, 1, 4, 7, 6], 1))\n",
    "print('2nd Order stat is', DSelect([3, 8, 2, 5, 1, 4, 7, 6], 2))\n",
    "print('3rd Order stat is', DSelect([3, 8, 2, 5, 1, 4, 7, 6], 3))\n",
    "print('4th Order stat is', DSelect([3, 8, 2, 5, 1, 4, 7, 6], 4))\n",
    "print('5th Order stat is', DSelect([3, 8, 2, 5, 1, 4, 7, 6], 5))\n",
    "print('6th Order stat is', DSelect([3, 8, 2, 5, 1, 4, 7, 6], 6))\n",
    "print('7th Order stat is', DSelect([3, 8, 2, 5, 1, 4, 7, 6], 7))\n",
    "print('8th Order stat is', DSelect([3, 8, 2, 5, 1, 4, 7, 6], 8))"
   ]
  },
  {
   "cell_type": "code",
   "execution_count": 6,
   "metadata": {},
   "outputs": [
    {
     "name": "stdout",
     "output_type": "stream",
     "text": [
      "5th Order statistic of the content expected to be 5469, got 5469\n",
      "50th Order statistic of the content expected to be 4715, got 4715\n"
     ]
    }
   ],
   "source": [
    "with open('problem6.5test1.txt', 'r') as f:\n",
    "    linest1 = [int(line.strip()) for line in f.readlines()]\n",
    "\n",
    "with open('problem6.5test2.txt', 'r') as f:\n",
    "   linest2 = [int(line.strip()) for line in f.readlines()]\n",
    "\n",
    "print('5th Order statistic of the content expected to be 5469, got', DSelect(linest1, 5))\n",
    "print('50th Order statistic of the content expected to be 4715, got', DSelect(linest2, 50))"
   ]
  },
  {
   "cell_type": "markdown",
   "metadata": {},
   "source": [
    "With the above test cases giving right answers, lets execute the code using numbers created using 100,000 and 1,000,000 digits of pi. Each number is 10 consecutive numbers of pi. Let us construct this list using the files containing 100,000 and 1,000,000"
   ]
  },
  {
   "cell_type": "code",
   "execution_count": 7,
   "metadata": {},
   "outputs": [],
   "source": [
    "def load_numbers_from_file(file):\n",
    "    with open(file) as f:\n",
    "        lines = f.readlines()\n",
    "\n",
    "    pistr = lines[0].replace('.', '', 1)\n",
    "    nums = [int(pistr[i:i + 10]) for i in range(0, len(pistr), 10)]\n",
    "\n",
    "    return nums"
   ]
  },
  {
   "cell_type": "code",
   "execution_count": 8,
   "metadata": {},
   "outputs": [
    {
     "name": "stdout",
     "output_type": "stream",
     "text": [
      "Using 100000 digits of pi, true median is 5048893989 RSelect gave 5048893989 DSelect gave 5048893989\n",
      "Using 1000000 digits of pi, true median is 5013922558 RSelect gave 5013922558 DSelect gave 5013922558\n"
     ]
    }
   ],
   "source": [
    "pi100000num = load_numbers_from_file('pi100000.txt')\n",
    "med_idx_1 = len(pi100000num) // 2\n",
    "true_median1 = sorted(pi100000num)[med_idx_1]\n",
    "rselect_median_1 = RSelect(pi100000num, med_idx_1 + 1)\n",
    "pi100000num = load_numbers_from_file('pi100000.txt')\n",
    "dselect_median_1 = DSelect(pi100000num, med_idx_1 + 1)\n",
    "print('Using 100000 digits of pi, true median is', true_median1, 'RSelect gave', rselect_median_1, 'DSelect gave', dselect_median_1)\n",
    "\n",
    "\n",
    "pi1000000num = load_numbers_from_file('pi1000000.txt')\n",
    "med_idx_2 = len(pi1000000num) // 2\n",
    "true_median2 = sorted(pi1000000num)[med_idx_2]\n",
    "rselect_median_2 = RSelect(pi1000000num, med_idx_2 + 1)\n",
    "pi1000000num = load_numbers_from_file('pi1000000.txt')\n",
    "dselect_median_2 = DSelect(pi1000000num, med_idx_2 + 1)\n",
    "print('Using 1000000 digits of pi, true median is', true_median2, 'RSelect gave', rselect_median_2, 'DSelect gave', dselect_median_2)"
   ]
  },
  {
   "cell_type": "markdown",
   "metadata": {},
   "source": [
    "\n",
    "From the above, output we see that RSelect, DSelect gives us the same results we got by sorting the numbers. Let us now time these three approaches\n",
    "\n",
    "- Sort and find the median\n",
    "- Find median using RSelect\n",
    "- Find median using DSelect.\n",
    "\n",
    "For measuring the relative times, we will load the data from file before each call."
   ]
  },
  {
   "cell_type": "code",
   "execution_count": 9,
   "metadata": {},
   "outputs": [
    {
     "name": "stdout",
     "output_type": "stream",
     "text": [
      "82.4 ms ± 600 µs per loop (mean ± std. dev. of 7 runs, 10 loops each)\n"
     ]
    }
   ],
   "source": [
    "%%timeit\n",
    "pi1000000num = load_numbers_from_file('pi1000000.txt')\n",
    "med_idx_2 = len(pi1000000num) // 2\n",
    "true_median2 = sorted(pi1000000num)[med_idx_2]"
   ]
  },
  {
   "cell_type": "code",
   "execution_count": 10,
   "metadata": {},
   "outputs": [
    {
     "name": "stdout",
     "output_type": "stream",
     "text": [
      "107 ms ± 8.32 ms per loop (mean ± std. dev. of 7 runs, 10 loops each)\n"
     ]
    }
   ],
   "source": [
    "%%timeit\n",
    "pi1000000num = load_numbers_from_file('pi1000000.txt')\n",
    "med_idx_2 = len(pi1000000num) // 2\n",
    "true_median2 = RSelect(pi1000000num, med_idx_2 + 1)"
   ]
  },
  {
   "cell_type": "code",
   "execution_count": 11,
   "metadata": {},
   "outputs": [
    {
     "name": "stdout",
     "output_type": "stream",
     "text": [
      "290 ms ± 12.6 ms per loop (mean ± std. dev. of 7 runs, 1 loop each)\n"
     ]
    }
   ],
   "source": [
    "%%timeit\n",
    "pi1000000num = load_numbers_from_file('pi1000000.txt')\n",
    "med_idx_2 = len(pi1000000num) // 2\n",
    "true_median2 = DSelect(pi1000000num, med_idx_2 + 1)"
   ]
  },
  {
   "cell_type": "markdown",
   "metadata": {},
   "source": [
    "\n",
    "The list has around 100000 numbers and unintuitively, the time take to sort and find median in these numbers turns out to be the best approach. I believe as the array grows big, RSelect will start outperforming the sort and select median approach. Ine thing however is evident that RSelect is roughly 3 times faster than DSelect though mathematically both algorithms run in linear time."
   ]
  },
  {
   "cell_type": "code",
   "execution_count": null,
   "metadata": {},
   "outputs": [],
   "source": []
  }
 ],
 "metadata": {
  "kernelspec": {
   "display_name": "Python 3",
   "language": "python",
   "name": "python3"
  },
  "language_info": {
   "codemirror_mode": {
    "name": "ipython",
    "version": 3
   },
   "file_extension": ".py",
   "mimetype": "text/x-python",
   "name": "python",
   "nbconvert_exporter": "python",
   "pygments_lexer": "ipython3",
   "version": "3.7.1"
  }
 },
 "nbformat": 4,
 "nbformat_minor": 2
}

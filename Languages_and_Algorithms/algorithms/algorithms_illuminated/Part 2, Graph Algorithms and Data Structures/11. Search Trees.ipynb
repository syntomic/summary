{
 "cells": [
  {
   "cell_type": "markdown",
   "metadata": {},
   "source": [
    "### 11. Search Trees\n",
    "\n",
    "In this notebook we will look at searching algorithms and sub data structures thatr can let us perform fast search operations. Naive search algorithm can search for value in the data structure in linear time. The data structures we will look at will letr us perform that operation much faster than that.\n",
    "\n",
    "We previously looked at heaps which are very fast at finding the minimum/maximum value from an evolving set of values. If our usecase is just to find min/max (only one of min/max) values, heaps are very simple yet efficient data structures. If we want to extend our set of operations to the following list *to start with*\n",
    "\n",
    "- *Search*: Given a key, check if the key exists in the data structure\n",
    "- *Min/Max*: Find the minimum and maximum (both operations supported on the same datastructure, unlike heap) key\n",
    "- *Predecessor/Successor*: Given a key, find an object which is the predecessor/successor of the object with given key\n",
    "- *SortedOutput* : Return the keys in the data structure in sorted order\n",
    "- *Select*: Given a number i between 1 to n (number of keys in the data structure), return the $i^{th}$ smallest key\n",
    "- *Rank*: Given a key k, give number of keys in the data structure with keys atmost k.\n",
    "\n",
    "We will start with a super simple data structure, sorted arrays to implement the above mentioned operation\n",
    "\n",
    "#### Sorted Arrays\n"
   ]
  },
  {
   "cell_type": "code",
   "execution_count": 1,
   "metadata": {},
   "outputs": [],
   "source": [
    "class BinarySearchArray:\n",
    "    \n",
    "    def __init__(self, nums):\n",
    "        self.array = sorted(nums)\n",
    "        \n",
    "    def search(self, n):\n",
    "        \n",
    "        def search_rec_(left, right):\n",
    "            if left >= right:\n",
    "                return None\n",
    "            else:\n",
    "                mid = (left + right) // 2\n",
    "                if self.array[mid] == n:\n",
    "                    return mid\n",
    "                elif self.array[mid] > n:\n",
    "                    return search_rec_(left = left, right = mid)\n",
    "                else:\n",
    "                    return search_rec_(left = mid + 1, right = right)    \n",
    "            \n",
    "        return search_rec_(left = 0, right = len(self.array))\n",
    "        \n",
    "        \n",
    "\n",
    "    def min_(self):\n",
    "        return self.array[0]\n",
    "\n",
    "    def max_(self):        \n",
    "        return self.array[-1]\n",
    "    \n",
    "    def predecessor(self, n):\n",
    "        idx = self.search(n)\n",
    "        if idx is not None:\n",
    "            #This can make the running time linear. The fix if to enhance search to either return \n",
    "            #the left most of right most match and not the first match, \n",
    "            #this can easily be implemented by continuing to recurse till the left/right\n",
    "            #of element index we return has a value != n. That way we still have log(n) guarantee. Here we \n",
    "            #want to keep the implementation of search simple\n",
    "            while idx >= 0 and self.array[idx] == n:\n",
    "                idx -= 1\n",
    "\n",
    "        return (None, None) if idx is None or idx < 0 else (self.array[idx], idx)\n",
    "        \n",
    "    def successor(self, n):\n",
    "        idx = self.search(n)\n",
    "        if idx is not None:\n",
    "            #See comment in predecessor on the linear time worst case and how we can make it logarithmic\n",
    "            while idx < len(self.array) and self.array[idx] == n:\n",
    "                idx += 1\n",
    "        return (None, None) if idx is None or idx == len(self.array) else (self.array[idx], idx)\n",
    "        \n",
    "    def sorted_output(self):\n",
    "        return list(self.array)\n",
    "    \n",
    "    def select(self, i):\n",
    "        return self.array[i - 1] if i > 0 and i <= len(self.array) else None\n",
    "    \n",
    "    def rank(self, n):\n",
    "        idx = self.search(n)\n",
    "        if idx is not None:\n",
    "            while idx < len(self.array) and self.array[idx] == n:\n",
    "                idx += 1\n",
    "            return idx\n",
    "        else:\n",
    "            return None\n",
    "        "
   ]
  },
  {
   "cell_type": "code",
   "execution_count": 2,
   "metadata": {},
   "outputs": [],
   "source": [
    "unsorted_array = [5, 3, 8, 2, 5, 1, 7]\n",
    "a = BinarySearchArray(unsorted_array)"
   ]
  },
  {
   "cell_type": "code",
   "execution_count": 3,
   "metadata": {},
   "outputs": [
    {
     "name": "stdout",
     "output_type": "stream",
     "text": [
      "Numbers in the array are [1, 2, 3, 5, 5, 7, 8]\n",
      "Searching numbers 1 to 10 in the array gives index [(1, 0), (2, 1), (3, 2), (4, None), (5, 3), (6, None), (7, 5), (8, 6), (9, None), (10, None)]\n"
     ]
    }
   ],
   "source": [
    "print('Numbers in the array are', a.array)\n",
    "print('Searching numbers 1 to 10 in the array gives index', [(i, a.search(i)) for i in range(1, 11)])"
   ]
  },
  {
   "cell_type": "markdown",
   "metadata": {},
   "source": [
    "Notice that we have two 5s in the array and how we return in index of the first one we find when we recursively find. There is no guarantee we will find the first or the last value in search\n",
    "\n",
    "Lets continue testing remaining operations\n"
   ]
  },
  {
   "cell_type": "code",
   "execution_count": 4,
   "metadata": {},
   "outputs": [
    {
     "name": "stdout",
     "output_type": "stream",
     "text": [
      "Predecessor of 1 should be None and we get None\n",
      "Successor of 8 should be None and we get None\n",
      "Predecessor of 5 should be 3 and we get 3\n",
      "Successor of 5 should be 7 and we get 7\n",
      "Sorted output is  [1, 2, 3, 5, 5, 7, 8]\n",
      "Rank of 5 is expected to be 5(as we have 5 numbers <= 5), got 5\n",
      "Rank of 7 is expected to be 6(as we have 6 numbers <= 7), got 6\n",
      "Select 10 should return None, got None\n",
      "Select 6 should return 7 (now how this is reverse of rank), got 7\n",
      "Select 5 should return 5 (now how this is reverse of rank), got 5\n"
     ]
    }
   ],
   "source": [
    "print('Predecessor of 1 should be None and we get', a.predecessor(1)[0])\n",
    "print('Successor of 8 should be None and we get', a.successor(8)[0])\n",
    "print('Predecessor of 5 should be 3 and we get', a.predecessor(5)[0])\n",
    "print('Successor of 5 should be 7 and we get', a.successor(5)[0])\n",
    "print('Sorted output is ', a.sorted_output())\n",
    "print('Rank of 5 is expected to be 5(as we have 5 numbers <= 5), got', a.rank(5))\n",
    "print('Rank of 7 is expected to be 6(as we have 6 numbers <= 7), got', a.rank(7))\n",
    "print('Select 10 should return None, got', a.select(10))\n",
    "print('Select 6 should return 7 (now how this is reverse of rank), got', a.select(6))\n",
    "print('Select 5 should return 5 (now how this is reverse of rank), got', a.select(5))"
   ]
  },
  {
   "cell_type": "markdown",
   "metadata": {},
   "source": [
    "Lets summarize the running times of our search using sorted arrays in the folowing table\n",
    "\n",
    "|Operation|Running Time|\n",
    "|--|--|\n",
    "|Search|$\\theta(log(n))$|\n",
    "|Min|$\\theta(1)$|\n",
    "|Max|$\\theta(1)$|\n",
    "|Predecessor|$\\theta(log(n))$|\n",
    "|Successor|$\\theta(log(n))$|\n",
    "|SortedOutput|$\\theta(n)$|\n",
    "|Select|$\\theta(1)$|\n",
    "|Rank|$\\theta(log(n))$|\n",
    "\n",
    "\n",
    "Now that we have a working implemention of these 8 operations on arrays which gives is reasonably fast running time, we see there are a couple of issues with Sorted arrays. Many real world applications are dynamic in nature and supporting insertion and deletion of elements is curcial. Inserting and deleting elements from Sorted array is linear time operation in the best case and thus we will need a different data structure to handle dynamic data.\n",
    "\n",
    "We will now look at Search trees.\n",
    "\n",
    "#### Search Trees\n",
    "\n",
    "Search Trees will achieve all operations in $\\theta(log(n))$ time except sorted output which will run in $\\theta(n)$ time.\n",
    "\n",
    "Following table summarizes the running times\n",
    "\n",
    "|Operation|Sorted Array|*Balanced* Search Tree|\n",
    "|--|--|--|\n",
    "|Search|$\\theta(log(n))$|$\\theta(log(n))$|\n",
    "|Min|$\\theta(1)$|$\\theta(log(n))$|\n",
    "|Max|$\\theta(1)$|$\\theta(log(n))$|\n",
    "|Predecessor|$\\theta(log(n))$|$\\theta(log(n))$|\n",
    "|Successor|$\\theta(log(n))$|$\\theta(log(n))$|\n",
    "|SortedOutput|$\\theta(n)$|$\\theta(n)$|\n",
    "|Select|$\\theta(1)$|$\\theta(log(n))$|\n",
    "|Rank|$\\theta(log(n))$|$\\theta(log(n))$|\n",
    "|**Insert**|$\\theta(n)$|$\\theta(log(n))$|\n",
    "|**Delete**|$\\theta(n)$|$\\theta(log(n))$|\n",
    "\n",
    "\n",
    "The search tree running time guarantees are for balances binary tree.\n",
    "\n",
    "Implementing self balancing trees is not trivial and our initial implementation will not be looking to implement self balancing trees but rely on the fact that the numbers being added to the tree are not sorted and random in nature.\n",
    "\n",
    "---\n",
    "\n",
    "Following is an implementation of non self balancing BinarySearchTree"
   ]
  },
  {
   "cell_type": "code",
   "execution_count": 5,
   "metadata": {},
   "outputs": [],
   "source": [
    "class BinarySearchTree:\n",
    "    \n",
    "    class Node:\n",
    "        \n",
    "        def __init__(self, v):\n",
    "            #Stores reference of the parent node, None if the node is root\n",
    "            self.parent = None\n",
    "            #Stores reference of left sub tree\n",
    "            self.left = None\n",
    "            #Stores reference of right sub tree            \n",
    "            self.right = None\n",
    "            #Instead of inserting multiple nodes for same value, we just increment the count\n",
    "            self.count = 1\n",
    "            #Maintains the size of the left tree and right tree, total \n",
    "            #tree size is left_size + right_size + coun, this is slightly different implementation then that \n",
    "            #given in the book\n",
    "            self.left_size = 0\n",
    "            self.right_size = 0          \n",
    "            #The value of the node\n",
    "            self.value = v\n",
    "            \n",
    "    \n",
    "    def __init__(self):\n",
    "        self.root = None\n",
    "        \n",
    "    def __search__(self, current, n, rank = 0):\n",
    "            if current is None:\n",
    "                return None, None\n",
    "            elif current.value == n:\n",
    "                return current, rank + current.left_size + current.count\n",
    "            elif current.value > n:\n",
    "                return self.__search__(current.left, n, rank)\n",
    "            else:\n",
    "                return self.__search__(current.right, n, rank + current.count + current.left_size)\n",
    "            \n",
    "    def __min__(self, node):\n",
    "        if node is None:\n",
    "            return None\n",
    "        if node.left is None:\n",
    "            return node\n",
    "        else:\n",
    "            return self.__min__(node.left)\n",
    "            \n",
    "    def __max__(self, node):\n",
    "        if node is None:\n",
    "            return None\n",
    "        if node.right is None:\n",
    "            return node\n",
    "        else:\n",
    "            return self.__max__(node.right)\n",
    "        \n",
    "    def __delete__(self, node):\n",
    "        if node is not None:\n",
    "            #Case 1: If node is None/node not present in tree, take no further action, else check\n",
    "            # if we have multiple instances of this value, if yes simply decrement the counter\n",
    "            if node.count > 1:\n",
    "                node.count -= 1\n",
    "            else:\n",
    "                if node.left is None and node.right is None:\n",
    "                    #Case 2: Node to be deleted is a leaf node (it being a root with no children is a special case)\n",
    "                    if self.root == node:\n",
    "                        self.root = None\n",
    "                    else:\n",
    "                        if node == node.parent.left:\n",
    "                            node.parent.left = None\n",
    "                        else:\n",
    "                            node.parent.right = None\n",
    "\n",
    "                elif node.left is None or node.right is None:\n",
    "                    #Case 3: Node has One child (again , there is a special case when node is root)\n",
    "                    child = node.left if node.right is None else node.right\n",
    "                    if node.parent is None:\n",
    "                        self.root = child\n",
    "                        child.parent = None\n",
    "                    else:\n",
    "                        child.parent = node.parent\n",
    "                        if node == node.parent.left:\n",
    "                            node.parent.left  = child\n",
    "                        else:\n",
    "                            node.parent.right = child\n",
    "                else:\n",
    "                    #Case 4, complex case, the node to be deleted has two children\n",
    "                    # We swap the node with the maximum of the left tree. Any maximum node will have no right child\n",
    "                    # Also, replacing the node with the maximum of the left tree (also the predecessor of this node)\n",
    "                    #doesn not violate the tree except by swapping the node with the predecessor, we push the violation \n",
    "                    #down in the tree. But deleting node from this position is easy as we now reduce this case to \n",
    "                    #Case 2 or Case 3\n",
    "\n",
    "                    #4a, Find the predecessor/max of left tree\n",
    "                    new_node = self.__max__(node.left)\n",
    "\n",
    "                    #4b Swap position of node and the predecessor\n",
    "                    left, right, parent = node.left, node.right, node.parent\n",
    "\n",
    "\n",
    "                    #new_node.right will always be None\n",
    "                    node.left, node.right = new_node.left, new_node.right\n",
    "                    new_node.right = right\n",
    "                    if left == new_node:\n",
    "                        new_node.left = node\n",
    "                        node.parent = new_node\n",
    "                    else:\n",
    "                        new_node.left = left\n",
    "                        node.parent = new_node.parent\n",
    "\n",
    "                    if left is not None:\n",
    "                        left.parent = new_node\n",
    "                    if right is not None:\n",
    "                        right.parent = new_node\n",
    "\n",
    "\n",
    "                    #Special case if node was the root\n",
    "                    new_node.parent = parent                \n",
    "                    if parent is None:\n",
    "                        self.root = new_node\n",
    "                    else:\n",
    "                        if node == parent.left:\n",
    "                            parent.left = new_node\n",
    "                        else:\n",
    "                            parent.right = new_node\n",
    "\n",
    "                    #4c, delete this node now recursively. This time the call will be for case 2/3\n",
    "                    self.__delete__(node)\n",
    "                \n",
    "            \n",
    "    def __insert__(self, current, v, parent, isLeft):\n",
    "            if current is None:\n",
    "                n = self.Node(v)\n",
    "                n.parent = parent\n",
    "                if isLeft:\n",
    "                    parent.left = n\n",
    "                else:\n",
    "                    parent.right = n\n",
    "            else:\n",
    "                if v == current.value:\n",
    "                    current.count += 1\n",
    "                elif v < current.value:\n",
    "                    current.left_size += 1\n",
    "                    self.__insert__(current.left, v, current, True)\n",
    "                else:\n",
    "                    current.right_size += 1\n",
    "                    self.__insert__(current.right, v, current, False) \n",
    "        \n",
    "    def insert(self, v):\n",
    "        if self.root is None:\n",
    "            self.root = self.Node(v)\n",
    "        else:\n",
    "            self.__insert__(self.root, v, None, None)\n",
    "\n",
    "\n",
    "                \n",
    "        \n",
    "        \n",
    "    def delete(self, v):\n",
    "        node = self.__search__(self.root, v)[0]\n",
    "        self.__delete__(node)\n",
    "        \n",
    "    def search(self, n): \n",
    "        return self.__search__(self.root, n)[0]\n",
    "\n",
    "        \n",
    "    def min_(self):\n",
    "        return None if self.root is None else self.__min__(self.root).value\n",
    "\n",
    "        \n",
    "    def max_(self):\n",
    "        return None if self.root is None else self.__max__(self.root).value\n",
    "    \n",
    "    def predecessor(self, n):\n",
    "        node = self.search(n)\n",
    "        if node is not None:\n",
    "            if node.left is None:\n",
    "                while node.parent is not None and node == node.parent.left:\n",
    "                    node = node.parent\n",
    "                \n",
    "                if node.parent is None:\n",
    "                    #Case when we are trying to find the predecessor of minimum\n",
    "                    return None\n",
    "                else:\n",
    "                    return node.parent.value\n",
    "            else:\n",
    "                return self.__max__(node.left).value\n",
    "        else:\n",
    "            return None\n",
    "            \n",
    "        \n",
    "    def successor(self, n):\n",
    "        node = self.search(n)\n",
    "        if node is not None:\n",
    "            if node.right is  None:\n",
    "                while node.parent is not None and node == node.parent.right:\n",
    "                    node = node.parent\n",
    "                    \n",
    "                if node.parent is None:\n",
    "                    #The value we are intend to find successor for is the max value\n",
    "                    return None\n",
    "                else:\n",
    "                    return node.parent.value\n",
    "            else:\n",
    "                return self.__min__(node.right).value\n",
    "        else:\n",
    "            return None\n",
    "\n",
    "    def sorted_output(self):\n",
    "        res = []\n",
    "        def inorder_(node):\n",
    "            if node is not None:\n",
    "                inorder_(node.left)\n",
    "                res.extend([node.value] * node.count)\n",
    "                inorder_(node.right)\n",
    "        inorder_(self.root)\n",
    "        return res\n",
    "    \n",
    "    def select(self, i):\n",
    "        def select_(node, rank):\n",
    "            if node is None:\n",
    "                return None\n",
    "            elif rank <= node.left_size:\n",
    "                return select_(node.left, rank)\n",
    "            elif rank > node.left_size + node.count:\n",
    "                return select_(node.right, rank - node.left_size - node.count)\n",
    "            else:\n",
    "                return node.value\n",
    "        return select_(self.root, i)\n",
    "    \n",
    "    def rank(self, n):\n",
    "        _, r = self.__search__(self.root, n)\n",
    "        return r"
   ]
  },
  {
   "cell_type": "code",
   "execution_count": 6,
   "metadata": {},
   "outputs": [
    {
     "name": "stdout",
     "output_type": "stream",
     "text": [
      "Searching numbers 1 to 10 in the Tree gives [(1, True), (2, True), (3, True), (4, False), (5, True), (6, False), (7, True), (8, True), (9, False), (10, False)]\n",
      "\n",
      "Searching numbers 1 to 10 in the Array gives [(1, True), (2, True), (3, True), (4, False), (5, True), (6, False), (7, True), (8, True), (9, False), (10, False)]\n"
     ]
    }
   ],
   "source": [
    "bst = BinarySearchTree()\n",
    "bsa = BinarySearchArray(unsorted_array)\n",
    "for i in unsorted_array:\n",
    "    bst.insert(i)\n",
    "print('Searching numbers 1 to 10 in the Tree gives', [(i, bst.search(i) is not None) for i in range(1, 11)])\n",
    "print('\\nSearching numbers 1 to 10 in the Array gives', [(i, bsa.search(i) is not None) for i in range(1, 11)])"
   ]
  },
  {
   "cell_type": "markdown",
   "metadata": {},
   "source": [
    "\n",
    "As we see above, the binary search tree and search array gives identical results on searching."
   ]
  },
  {
   "cell_type": "code",
   "execution_count": 7,
   "metadata": {},
   "outputs": [
    {
     "name": "stdout",
     "output_type": "stream",
     "text": [
      "Minimum in BinarySearchArray is 1 , minimum in BinarySearchTree is 1\n",
      "Maximum in BinarySearchArray is 8 , maximum in BinarySearchTree is 8\n",
      "====================================================================================================\n",
      "Predecessors using BinarySearchArray of elements are [(5, 3), (3, 2), (8, 7), (2, 1), (5, 3), (1, None), (7, 5)]\n",
      "Predecessors using BinarySearchArray of elements are [(5, 3), (3, 2), (8, 7), (2, 1), (5, 3), (1, None), (7, 5)]\n",
      "====================================================================================================\n",
      "Successor using BinarySearchArray of elements are [(5, 7), (3, 5), (8, None), (2, 3), (5, 7), (1, 2), (7, 8)]\n",
      "Successor using BinarySearchArray of elements are [(5, 7), (3, 5), (8, None), (2, 3), (5, 7), (1, 2), (7, 8)]\n",
      "====================================================================================================\n",
      "Sorted output using BinarySearchArray for all elements give [1, 2, 3, 5, 5, 7, 8]\n",
      "Sorted output using BinarySearchTree for all elements give [1, 2, 3, 5, 5, 7, 8]\n",
      "====================================================================================================\n",
      "select using BinarySearchArray from 1 to 8 gives [(1, 1), (2, 2), (3, 3), (4, 5), (5, 5), (6, 7), (7, 8), (8, None)]\n",
      "select using BinarySearchTree from 1 to 8 gives [(1, 1), (2, 2), (3, 3), (4, 5), (5, 5), (6, 7), (7, 8), (8, None)]\n",
      "====================================================================================================\n",
      "rank using BinarySearchArray for elements are [(5, 5), (3, 3), (8, 7), (2, 2), (5, 5), (1, 1), (7, 6)]\n",
      "rank using BinarySearchTree for elements are [(5, 5), (3, 3), (8, 7), (2, 2), (5, 5), (1, 1), (7, 6)]\n"
     ]
    }
   ],
   "source": [
    "print('Minimum in BinarySearchArray is', bsa.min_(), ', minimum in BinarySearchTree is', bst.min_())\n",
    "print('Maximum in BinarySearchArray is', bsa.max_(), ', maximum in BinarySearchTree is', bst.max_())\n",
    "print(\"=\" * 100)\n",
    "print('Predecessors using BinarySearchArray of elements are', \n",
    "      [(i, bsa.predecessor(i)[0]) for i in unsorted_array])\n",
    "print('Predecessors using BinarySearchArray of elements are', \n",
    "      [(i, bst.predecessor(i)) for i in unsorted_array])\n",
    "print(\"=\" * 100)\n",
    "print('Successor using BinarySearchArray of elements are', \n",
    "      [(i, bsa.successor(i)[0]) for i in unsorted_array])\n",
    "\n",
    "print('Successor using BinarySearchArray of elements are', \n",
    "      [(i, bst.successor(i)) for i in unsorted_array])\n",
    "\n",
    "print(\"=\" * 100)\n",
    "print('Sorted output using BinarySearchArray for all elements give', bsa.sorted_output())\n",
    "print('Sorted output using BinarySearchTree for all elements give', bst.sorted_output())\n",
    "\n",
    "print(\"=\" * 100)\n",
    "print('select using BinarySearchArray from 1 to 8 gives', \n",
    "      [(i, bsa.select(i)) for i in range(1, 9)])\n",
    "print('select using BinarySearchTree from 1 to 8 gives', \n",
    "      [(i, bst.select(i)) for i in range(1, 9)])\n",
    "\n",
    "print(\"=\" * 100)\n",
    "print('rank using BinarySearchArray for elements are', \n",
    "      [(i, bsa.rank(i)) for i in unsorted_array])\n",
    "print('rank using BinarySearchTree for elements are', \n",
    "      [(i, bst.rank(i)) for i in unsorted_array])\n",
    "\n"
   ]
  },
  {
   "cell_type": "markdown",
   "metadata": {},
   "source": [
    "---\n",
    "\n",
    "As we see above we have checked results of all operations except `delete`. All the results we get for `BinarySearchTree` match our results for `BinarySearchArray`.\n",
    "\n",
    "We will now test the delete functionality of `BinarySearchTree`. We will delete one by one elements from the tree and then check existance of elements in the tree.\n",
    "\n",
    "---"
   ]
  },
  {
   "cell_type": "code",
   "execution_count": 8,
   "metadata": {},
   "outputs": [
    {
     "name": "stdout",
     "output_type": "stream",
     "text": [
      "Before deletion sorted gives [1, 2, 3, 5, 5, 7, 8] tree size is 7\n",
      "\n",
      "====================================================================================================\n",
      "After deleting 5 sorted tree gives [1, 2, 3, 5, 7, 8] tree size is 6\n",
      "====================================================================================================\n",
      "After deleting 3 sorted tree gives [1, 2, 5, 7, 8] tree size is 6\n",
      "====================================================================================================\n",
      "After deleting 8 sorted tree gives [1, 2, 5, 7] tree size is 6\n",
      "====================================================================================================\n",
      "After deleting 2 sorted tree gives [1, 5, 7] tree size is 6\n",
      "====================================================================================================\n",
      "After deleting 5 sorted tree gives [1, 7] tree size is 1\n",
      "====================================================================================================\n",
      "After deleting 1 sorted tree gives [7] tree size is 1\n",
      "====================================================================================================\n",
      "After deleting 7 sorted tree gives [] tree size is 0\n"
     ]
    }
   ],
   "source": [
    "#TODO: Finish off delete\n",
    "to_delete = list(reversed(unsorted_array))\n",
    "size_ = bst.root.count + bst.root.left_size + bst.root.right_size\n",
    "print(\"Before deletion sorted gives\", bst.sorted_output(),'tree size is', size_)\n",
    "print()\n",
    "while to_delete:    \n",
    "    del_ = to_delete.pop()\n",
    "    print(\"=\"* 100)\n",
    "    bst.delete(del_)\n",
    "    size_ = (bst.root.count + bst.root.left_size + bst.root.right_size) if bst.root is not None else 0\n",
    "    print(\"After deleting\", del_, \"sorted tree gives\", bst.sorted_output(), 'tree size is', size_)\n",
    "\n",
    "#unsorted_array, bst.root.value"
   ]
  },
  {
   "cell_type": "markdown",
   "metadata": {},
   "source": [
    "\n",
    "---\n",
    "\n",
    "**Quiz 11.1**\n",
    "\n",
    "Node x has children y and z, the answer is **(c)**, *size(x) = size(y) + size(z) + 1*\n",
    "\n",
    "---\n"
   ]
  },
  {
   "cell_type": "markdown",
   "metadata": {
    "collapsed": true
   },
   "source": [
    "#### Balanced Binary Search Tree\n",
    "\n",
    "A binary search tree has a guaranteed running time of $\\theta(log(n))$ running time for all operations (except ``SortedOutput``) only when the tree is balanced. Order of insertion in a binary tree without self balancing decides the time complexity of the operations. "
   ]
  },
  {
   "cell_type": "code",
   "execution_count": 9,
   "metadata": {},
   "outputs": [],
   "source": [
    "def draw_tree(root):\n",
    "    # root is a Node which has three attributes, left, right and value\n",
    "    import networkx as nx  \n",
    "    # there is something wrong with module\n",
    "    from networkx.drawing.nx_agraph import write_dot, graphviz_layout\n",
    "    import matplotlib.pyplot as plt\n",
    "    \n",
    "    # Convert the list to adjlist like structure which we will use to plot\n",
    "    from collections import defaultdict\n",
    "    nodes = defaultdict(list)\n",
    "    def to_list(node):\n",
    "        if node:\n",
    "            if node.left:\n",
    "                nodes[node.value].append(node.left.value)\n",
    "            if node.right:\n",
    "                nodes[node.value].append(node.right.value)\n",
    "            \n",
    "            to_list(node.left)\n",
    "            to_list(node.right)\n",
    "    \n",
    "    to_list(root)\n",
    "    #print(nodes)\n",
    "    \n",
    "    G = nx.DiGraph()\n",
    "    added = set()\n",
    "    for n in nodes:\n",
    "        if n not in added:\n",
    "            G.add_node(n)\n",
    "        added.add(n)\n",
    "        if n in nodes:\n",
    "            for children in nodes[n]:\n",
    "                if n not in added:\n",
    "                    G.add_node(children)\n",
    "\n",
    "                added.add(children)\n",
    "                G.add_edge(n, children)\n",
    "\n",
    "    write_dot(G,'test.dot')\n",
    "    # same layout using matplotlib with no labels\n",
    "    pos=graphviz_layout(G, prog='dot')\n",
    "    nx.draw(G, pos, with_labels=True, arrows=True)\n",
    "    plt.show()"
   ]
  },
  {
   "cell_type": "markdown",
   "metadata": {},
   "source": [
    "Consider adding elements in a tree in sorted order (ascending or descending). First, we will create a tree from sorted elements and then the same elements inserted in a different order"
   ]
  },
  {
   "cell_type": "code",
   "execution_count": 10,
   "metadata": {},
   "outputs": [
    {
     "data": {
      "text/plain": [
       "<Figure size 640x480 with 1 Axes>"
      ]
     },
     "metadata": {},
     "output_type": "display_data"
    }
   ],
   "source": [
    "sorted_element = [0, 1, 2, 3, 4, 5, 6]\n",
    "tree = BinarySearchTree()\n",
    "for v in sorted_element:\n",
    "    tree.insert(v)\n",
    "\n",
    "draw_tree(tree.root)"
   ]
  },
  {
   "cell_type": "code",
   "execution_count": 11,
   "metadata": {},
   "outputs": [
    {
     "data": {
      "image/png": "[encoded data removed]",
      "text/plain": [
       "<Figure size 432x288 with 1 Axes>"
      ]
     },
     "metadata": {},
     "output_type": "display_data"
    }
   ],
   "source": [
    "sorted_element = [3, 1, 5, 0, 2, 4, 6]\n",
    "tree = BinarySearchTree()\n",
    "for v in sorted_element:\n",
    "    tree.insert(v)\n",
    "\n",
    "draw_tree(tree.root)"
   ]
  },
  {
   "cell_type": "markdown",
   "metadata": {},
   "source": [
    "\n",
    "Searching any element in the first tree will have $\\theta(n)$ complexity as it is nothing but a linked list, where as the second tree will have the worst case complexity of $\\theta(log(n))$\n",
    "\n",
    "It is however possible to ensure the tree stays balanced by rebalancing the nodes in it to ensure the height does not exceed $\\theta(log(n))$. Couple of such trees are \n",
    "\n",
    "- AVL Trees\n",
    "- Red Black Trees.\n",
    "\n",
    "We will first look at AVL trees and see how this self balancing is done. All methods of our previously implemented ``BinarySearchTree`` will work just fine, except that after insert, there will be rebalancing that will be performed.\n",
    "\n",
    "We will start by introducting few cases and some what we will do to achieve\n",
    "\n",
    "---\n",
    "\n",
    "**1) Left Left Case.**\n",
    "\n",
    "This case occurs when the nodes left child has depth 2 greater than right and the left child is either balanced or left heavy. In this case we need to perform the following rotation.\n",
    "\n",
    "Consider the following (sub)tree. As we can see, the tree is left heavy. If we make 3 as the root with 5 and 4 on its right (4 being left child of 5) and keep 1 as is, it should get balanced. \n",
    "\n",
    "---"
   ]
  },
  {
   "cell_type": "code",
   "execution_count": 12,
   "metadata": {},
   "outputs": [
    {
     "data": {
      "image/png": "[encoded data removed]",
      "text/plain": [
       "<Figure size 432x288 with 1 Axes>"
      ]
     },
     "metadata": {},
     "output_type": "display_data"
    }
   ],
   "source": [
    "sorted_element = [5, 3, 4, 2, 7, 1]\n",
    "# Note how adding 1 to the tree causes the imbalance\n",
    "tree = BinarySearchTree()\n",
    "for v in sorted_element:\n",
    "    tree.insert(v)\n",
    "draw_tree(tree.root)"
   ]
  },
  {
   "cell_type": "code",
   "execution_count": 13,
   "metadata": {},
   "outputs": [
    {
     "data": {
      "image/png": "[encoded data removed]",
      "text/plain": [
       "<Figure size 432x288 with 1 Axes>"
      ]
     },
     "metadata": {},
     "output_type": "display_data"
    }
   ],
   "source": [
    "def left_left(node):\n",
    "    \n",
    "    # In above case, node is the 5 and new_root becomes 3\n",
    "    new_root = node.left\n",
    "    # Set parent of 3 as the parent of 5\n",
    "    new_root.parent = node.parent\n",
    "    # Set parent of 5 as 3 as 5 becomes the right child of 3\n",
    "    node.parent = new_root\n",
    "    # Set right node of 3, 4 in this case as left of 5 and set its parent to too\n",
    "    node.left = new_root.right\n",
    "    if new_root.right:\n",
    "        new_root.right.parent = node\n",
    "        \n",
    "    #Finally, set 3's right child to 5\n",
    "    new_root.right = node\n",
    "    \n",
    "    return new_root\n",
    "\n",
    "new_root = left_left(tree.root)\n",
    "draw_tree(new_root)\n"
   ]
  },
  {
   "cell_type": "markdown",
   "metadata": {},
   "source": [
    "---\n",
    "\n",
    "**2) Left Right Case.**\n",
    "\n",
    "This case happens when the height of left child becomes 2 greater than right and the left child is right heavy\n",
    "Consider the following tree\n",
    "\n",
    "---"
   ]
  },
  {
   "cell_type": "code",
   "execution_count": 14,
   "metadata": {},
   "outputs": [
    {
     "data": {
      "image/png": "[encoded data removed]",
      "text/plain": [
       "<Figure size 432x288 with 1 Axes>"
      ]
     },
     "metadata": {},
     "output_type": "display_data"
    }
   ],
   "source": [
    "sorted_element = [5, 2, 3, 1, 7, 4]\n",
    "# See how adding 4 causes the tree to become imbalanced\n",
    "tree = BinarySearchTree()\n",
    "for v in sorted_element:\n",
    "    tree.insert(v)\n",
    "draw_tree(tree.root)"
   ]
  },
  {
   "cell_type": "markdown",
   "metadata": {},
   "source": [
    "Above case (graph does not look pretty)  but we can see the max height on left of 5 if 3 and where as on its right its 1. Once we added 4, the tree becomes imbalanced.\n",
    "\n",
    "If we look carefully, we can change this left right case to left left, by making 3 5's left child and 2 as 3s left child and then solve left left case which we know how to fix."
   ]
  },
  {
   "cell_type": "code",
   "execution_count": 15,
   "metadata": {},
   "outputs": [],
   "source": [
    "def left_right(node):\n",
    "    # In above case, node is the 5 and new_root becomes 3\n",
    "    # Since this is left right case, we are guaranteed to have left and right node (5 -> 2 -> 3) in this case\n",
    "\n",
    "    # This represents node 2\n",
    "    left = node.left\n",
    "    # make right of this left (3 in this case) as left child of node and set its parent accordingly\n",
    "    node.left = left.right\n",
    "    new_left = node.left\n",
    "    node.left.parent = node\n",
    "    \n",
    "    # Make left of this left-right node, 3 in this case as right of left (2). This will not violate \n",
    "    # anything as anything on the right of a node is already larger than it, also set its parent accordingly\n",
    "    l = new_left.left\n",
    "    left.right = l\n",
    "    if l:\n",
    "        # As this can be None w eneed the check\n",
    "        l.parent= left\n",
    "    \n",
    "    new_left.left = left\n",
    "    left.parent = new_left\n",
    "    \n",
    "    # At this point we have made our tree from left-right to left-left, now use left-left to resolve    \n",
    "    return left_left(node)\n",
    "    \n",
    "    \n"
   ]
  },
  {
   "cell_type": "code",
   "execution_count": 16,
   "metadata": {},
   "outputs": [
    {
     "data": {
      "image/png": "[encoded data removed]",
      "text/plain": [
       "<Figure size 432x288 with 1 Axes>"
      ]
     },
     "metadata": {},
     "output_type": "display_data"
    }
   ],
   "source": [
    "new_root = left_right(tree.root)\n",
    "draw_tree(new_root)"
   ]
  },
  {
   "cell_type": "markdown",
   "metadata": {},
   "source": [
    "---\n",
    "\n",
    "**3) Right Right case**\n",
    "\n",
    "This case is a symmetric to left left case. Here the node's right chile has height 2 or more than left and the right child is either balanced or right heavy, \n",
    "\n",
    "consider the following setup\n",
    "\n",
    "---"
   ]
  },
  {
   "cell_type": "code",
   "execution_count": 25,
   "metadata": {},
   "outputs": [
    {
     "data": {
      "image/png": "[encoded data removed]",
      "text/plain": [
       "<Figure size 432x288 with 1 Axes>"
      ]
     },
     "metadata": {},
     "output_type": "display_data"
    }
   ],
   "source": [
    "sorted_element = [2, 1, 4, 3, 5, 7]\n",
    "# Note how adding 1 to the tree causes the imbalance\n",
    "tree = BinarySearchTree()\n",
    "for v in sorted_element:\n",
    "    tree.insert(v)\n",
    "draw_tree(tree.root)"
   ]
  },
  {
   "cell_type": "code",
   "execution_count": 26,
   "metadata": {},
   "outputs": [],
   "source": [
    "def right_right(node):\n",
    "    # in the above case, node will represent node 2, the new_root will be 4\n",
    "    \n",
    "    new_root = node.right\n",
    "    \n",
    "    #set, 4's parent parent as 2's current parent and make 2's parent 4\n",
    "    new_root.parent, node.parent = node.parent, new_root\n",
    "    \n",
    "    # Set node's (2) right child as new_root's (4), left child (3), set its parent accordingly\n",
    "    node.right = new_root.left\n",
    "    if new_root.left:\n",
    "        new_root.left.parent = node\n",
    "    \n",
    "    # set node (2) as left child of new_root\n",
    "    new_root.left = node\n",
    "    return new_root\n",
    "    \n",
    "    "
   ]
  },
  {
   "cell_type": "code",
   "execution_count": 27,
   "metadata": {},
   "outputs": [
    {
     "data": {
      "image/png": "[encoded data removed]",
      "text/plain": [
       "<Figure size 432x288 with 1 Axes>"
      ]
     },
     "metadata": {},
     "output_type": "display_data"
    }
   ],
   "source": [
    "new_root = right_right(tree.root)\n",
    "draw_tree(new_root)"
   ]
  },
  {
   "cell_type": "markdown",
   "metadata": {},
   "source": [
    "---\n",
    "\n",
    "**4) Right Left Case**\n",
    "\n",
    "This happens when the right child has height 2 greater than left and the right child is left heavy. This is symmetric to left-right case. We make the Right-Left case a Right-Right case and then solve it using the above mentioned method.\n",
    "\n",
    "---"
   ]
  },
  {
   "cell_type": "code",
   "execution_count": 46,
   "metadata": {},
   "outputs": [
    {
     "data": {
      "image/png": "[encoded data removed]",
      "text/plain": [
       "<Figure size 432x288 with 1 Axes>"
      ]
     },
     "metadata": {},
     "output_type": "display_data"
    }
   ],
   "source": [
    "sorted_element = [2, 1, 5, 4, 7, 3]\n",
    "# Note how adding 1 to the tree causes the imbalance\n",
    "tree = BinarySearchTree()\n",
    "for v in sorted_element:\n",
    "    tree.insert(v)\n",
    "draw_tree(tree.root)"
   ]
  },
  {
   "cell_type": "code",
   "execution_count": 47,
   "metadata": {},
   "outputs": [],
   "source": [
    "def right_left(node):\n",
    "    # Make it a right right problem\n",
    "    right = node.right\n",
    "    new_right = right.left\n",
    "    \n",
    "    node.right = new_right\n",
    "    new_right.parent = node\n",
    "    \n",
    "    # Make this new_right's right child left of the right child\n",
    "    r_right = new_right.right\n",
    "    right.left = r_right\n",
    "    if r_right:\n",
    "        r_right.parent = right\n",
    "    \n",
    "    new_right.right = right\n",
    "    right.parent = new_right\n",
    "    \n",
    "    # At this point, its a right right problem\n",
    "    \n",
    "    return right_right(node)\n",
    "    "
   ]
  },
  {
   "cell_type": "code",
   "execution_count": 48,
   "metadata": {},
   "outputs": [
    {
     "data": {
      "image/png": "[encoded data removed]",
      "text/plain": [
       "<Figure size 432x288 with 1 Axes>"
      ]
     },
     "metadata": {},
     "output_type": "display_data"
    }
   ],
   "source": [
    "new_root = right_left(tree.root)\n",
    "draw_tree(new_root)"
   ]
  },
  {
   "cell_type": "markdown",
   "metadata": {},
   "source": [
    "\n",
    "With the above functions implemented, whenever we insert / delete any node from the tree, we will go up the tree fixing the violations as and how we encounter"
   ]
  },
  {
   "cell_type": "code",
   "execution_count": null,
   "metadata": {},
   "outputs": [],
   "source": []
  }
 ],
 "metadata": {
  "kernelspec": {
   "display_name": "Python 3",
   "language": "python",
   "name": "python3"
  },
  "language_info": {
   "codemirror_mode": {
    "name": "ipython",
    "version": 3
   },
   "file_extension": ".py",
   "mimetype": "text/x-python",
   "name": "python",
   "nbconvert_exporter": "python",
   "pygments_lexer": "ipython3",
   "version": "3.7.1"
  }
 },
 "nbformat": 4,
 "nbformat_minor": 2
}

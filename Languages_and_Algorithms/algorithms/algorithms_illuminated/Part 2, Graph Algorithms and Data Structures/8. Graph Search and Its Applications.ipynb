{
 "cells": [
  {
   "cell_type": "markdown",
   "metadata": {},
   "source": [
    "### Introduction\n",
    "\n",
    "We will start with Generic Graph search. Graph Search is an algorithm where, given a graph, G(V, E), with a starting vertex s $\\in$ V, we identify all vertices of G reachable from s\n",
    "\n",
    "\n",
    "The generic graph search algorithm does the following, with the input grapg G = (V, E) and start vertex s\n",
    "\n",
    "```\n",
    "mark s as explored and all other vertices as unexplored\n",
    "\n",
    "while there is an edge (v, w) in E where v is explored and w is not explored:\n",
    "    mark w as explored\n",
    "\n",
    "```\n",
    "\n",
    "---\n",
    "\n",
    "The above algorithm is very abstract and the strategy to pick the edge is not specified. In the above algorithm, the vertex v is in the frontier and we wish to find all edges with one vertex in frontier and other outside. Two strategies that we can look at are \n",
    "\n",
    "- For all vertices in the frontier, explore all edges that go from them to vertices outside the frontier\n",
    "- Another strategy would be \n",
    "    - Pick one vertex in the frontier\n",
    "    - Pick one edge from the this vertex to another vertex not in frontier\n",
    "    - Add this another vertex to the frontier and aggressively keep adding the vertices in the frontier before looking at another vertex, unlike the first strategy\n",
    "    \n",
    "These two approches are BFS(Breadth First Search) and DFS (Depth First Search) algorothms for graph exploration. While they both work for finding all possible vertices reachable from a starting vertex s in time $\\theta(m + n)$, for some use cases we choose one over another.\n",
    "\n",
    "For example, for computing the shortst distance to a vertex from a starting vertex s can be done only using BFS efficiently. Where as some use cases like finding strongly connected components in case of directed graphs, we need DFS.\n",
    "\n"
   ]
  },
  {
   "cell_type": "code",
   "execution_count": 4,
   "metadata": {},
   "outputs": [
    {
     "data": {
      "image/png": "[encoded data removed]",
      "text/plain": [
       "<Figure size 432x288 with 1 Axes>"
      ]
     },
     "metadata": {},
     "output_type": "display_data"
    }
   ],
   "source": [
    "import warnings\n",
    "warnings.filterwarnings('ignore')\n",
    "\n",
    "import numpy as np\n",
    "import networkx as nx\n",
    "import matplotlib.pyplot as plt\n",
    "\n",
    "#A = np.matrix([[0, 1, 1, 0, 0, 0], \n",
    "#               [1, 0, 0, 1, 0, 0],\n",
    "#               [1, 0, 0, 1, 0, 0],\n",
    "#               [0, 1, 1, 0, 1, 1],               \n",
    "#               [0, 0, 0, 1, 0, 1],\n",
    "#               [0, 0, 0, 1, 1, 0],               \n",
    "#              ])\n",
    "#G = nx.from_numpy_matrix(A)\n",
    "\n",
    "G = nx.Graph()\n",
    "edges = [(0, 1), (0, 2), (2, 3), (1, 3), (3, 4), (3, 5), (4, 5)]\n",
    "G.add_edges_from(edges)\n",
    "nx.draw(G, with_labels = True)\n",
    "plt.show()"
   ]
  },
  {
   "cell_type": "markdown",
   "metadata": {},
   "source": [
    "\n",
    "Consider the above graph, starting from vertex 0 which is at level 0, vertices 1 and 2 are at level 1, vertex 3 at level 2 and vertices 4 and 5 at level 3.\n",
    "\n",
    "BFS will discover these edges in this very order. \n",
    "\n",
    "Following Python code makes use of queues and implements BFS and also give is the level of each of the vertex from a provided starting vertex. We saw how addacency lists can be defined in Python in previous notebook, to avoid copying over the code, we will make use of the graph defined in above cell from python package ``networkx`` version 2.2 to get adjacent edges of a given vertex. "
   ]
  },
  {
   "cell_type": "code",
   "execution_count": 5,
   "metadata": {},
   "outputs": [
    {
     "data": {
      "text/plain": [
       "{0: [1, 2], 1: [0, 3], 2: [0, 3], 3: [2, 1, 4, 5], 4: [3, 5], 5: [3, 4]}"
      ]
     },
     "execution_count": 5,
     "metadata": {},
     "output_type": "execute_result"
    }
   ],
   "source": [
    "adjacency_dict = {v: [m for m in k] for v, k in G.adjacency()}\n",
    "adjacency_dict"
   ]
  },
  {
   "cell_type": "markdown",
   "metadata": {},
   "source": [
    "\n",
    "If we look at the above dictionary, the key of the dictionary is the vertex and the value is  the list of edges connected to it. With this dictionary, let us use bfs to find the level of vertices starting with vertex 0 as the starting vertex and see of we get the levels we expect.\n"
   ]
  },
  {
   "cell_type": "code",
   "execution_count": 6,
   "metadata": {},
   "outputs": [
    {
     "name": "stdout",
     "output_type": "stream",
     "text": [
      "Node 0 is at level 0\n",
      "Node 1 is at level 1\n",
      "Node 2 is at level 1\n",
      "Node 3 is at level 2\n",
      "Node 4 is at level 3\n",
      "Node 5 is at level 3\n"
     ]
    }
   ],
   "source": [
    "def bfs(adg_dict, start_vertex):\n",
    "    from queue import Queue\n",
    "    import math\n",
    "    \n",
    "    #1. Create queue, we will add tuple of the vertex and level\n",
    "    q = Queue()\n",
    "    \n",
    "    #2. Initialize all levels to infinite. Any vertex not reachable from start_vertex will stay infinite\n",
    "    levels = [math.inf] * (len(adg_dict.keys()) + 1)\n",
    "    \n",
    "    #3. Set of explored vertices\n",
    "    explored = set()\n",
    "    \n",
    "    #4. Start by putting the start_vertex as level 0\n",
    "    q.put((start_vertex, 0))\n",
    "    \n",
    "    #5. Mark, start vertex as explored\n",
    "    explored.add(start_vertex)\n",
    "    \n",
    "    #6. Iterate till we have no more elements in the queue\n",
    "    while not q.empty():\n",
    "        #7. Get the vertex and its level (stored as tuple) from head of the queue\n",
    "        vertex, level = q.get()\n",
    "        \n",
    "        #8. Store the level of the vertex in the list (remember, we will never visit the vertex more than once)\n",
    "        levels[vertex] = level\n",
    "        \n",
    "        #9. Get adjacent vertices of this vertex\n",
    "        for v in adg_dict[vertex]:\n",
    "            \n",
    "            #10. Mark them as explored, we dont want to add them to queue if we come across this vertex again\n",
    "            if v not in explored:                \n",
    "                explored.add(v)\n",
    "                \n",
    "                #11. The level of this vertex is one more than the one we used to get this vertex\n",
    "                q.put((v, level + 1))\n",
    "\n",
    "    #12. Once the queue is empty, all vertices reachable from the start are explored, return the list with \n",
    "    #the levels of the vertices\n",
    "    return levels\n",
    "    \n",
    "levels = bfs(adjacency_dict, 0)\n",
    "for v, l in zip(adjacency_dict.keys(), levels):\n",
    "    print('Node %d is at level %d'%(v, l))"
   ]
  },
  {
   "cell_type": "markdown",
   "metadata": {},
   "source": [
    "This is what we expected to get. \n",
    "\n",
    "---\n",
    "\n",
    "*** Quiz 8.1. ***\n",
    "\n",
    "For a graph with minimum 2 edges, the minimum number of layers is 2, irrespective of the number of edges. The maximum is n, which can be formed by forming a chain of vertices like a linked list. So the answer will be (d), 2 and n levels\n",
    "\n",
    "---\n",
    "\n",
    "#### Connected components.\n",
    "\n",
    "Lets look at an examples below"
   ]
  },
  {
   "cell_type": "code",
   "execution_count": 7,
   "metadata": {},
   "outputs": [
    {
     "data": {
      "image/png": "[encoded data removed]",
      "text/plain": [
       "<Figure size 432x288 with 1 Axes>"
      ]
     },
     "metadata": {},
     "output_type": "display_data"
    }
   ],
   "source": [
    "G = nx.Graph()\n",
    "G.add_edges_from([(1, 3), (1, 5), (3, 5), (5, 9), (5, 7), (2, 4), (6, 8), (6, 10)])\n",
    "nx.draw(G, with_labels = True)\n",
    "plt.show()"
   ]
  },
  {
   "cell_type": "markdown",
   "metadata": {},
   "source": [
    "As we see above, we have three connected components made of vertices {1, 3, 5, 7, 9}, {2, 4} and {6, 8, 10}\n",
    "\n",
    "These three mentioned above are the connected components of the **undirected graph** above. In general for a set X, if x, y $\\in$ X, then we write x ~ y if x is related to y. \n",
    "\n",
    "For our graph, the set of the ser of vertices V. We write v ~ w if there is an edge between the vertices v and w.\n",
    "The equivalence relation has to satisfy the following three properties\n",
    "\n",
    "- The relations are reflexive, which means x ~ x. In our graph each vertex if related to itself.\n",
    "- The relation is symmetric, which means if x ~ y then y ~ x. In case of undirected graph, this is true as, if there is an edge between w and v there is also an edge between v and w\n",
    "- The relation is transitive. Which means if x ~ y and y ~ z then x ~ z. In case of our graph, if we can reach from vertex x to y and we can reach from y to z, then we can reach from x to z.\n",
    "\n",
    "The equivalence relations partitions the set into some sub sets. Each element in a class is related to each other element in that class and only to elements in that class. \n",
    "\n",
    "In case of graph these classes are connected components.\n",
    "\n",
    "---\n",
    "\n",
    "*** Quiz 8.2 ***\n",
    "\n",
    "With n vertices and m edges, in the worst case we have 0 edges and therefore each vertex is forms one connected component. Thus the maximum numbers of Undirected Connected Components (UCC) we can have is n\n",
    "\n",
    "On other hand, each vertex can reach any other vertex in the graph giving us just one connected component. Thus the answer is (b), 1 and n\n",
    "\n",
    "\n",
    "---\n",
    "\n",
    "We will next implement the UCC algorithm using the bfs we already have implemented. The goal of this algorithm is to tell us the number of strongly connected components in a graph (and the vertices in those components.)"
   ]
  },
  {
   "cell_type": "code",
   "execution_count": 8,
   "metadata": {},
   "outputs": [
    {
     "name": "stdout",
     "output_type": "stream",
     "text": [
      "Number of connected components are 3\n",
      "\n",
      "Connected component 1 has vertices [1, 3, 5, 7, 9]\n",
      "Connected component 2 has vertices [2, 4]\n",
      "Connected component 3 has vertices [6, 8, 10]\n"
     ]
    }
   ],
   "source": [
    "def ucc(adj_dict):\n",
    "    #1. Maintain a set of of unexplored nodes.    \n",
    "    explored = set()\n",
    "    ucc_id = 1\n",
    "    import math\n",
    "    uccs = {}\n",
    "    #2. Iterate through all unexplored vertices\n",
    "    for v in adj_dict.keys():\n",
    "        \n",
    "        if v in explored:\n",
    "            #3a. If vertex is explored, its already part of some connected component, skip it\n",
    "            continue\n",
    "        else:\n",
    "            #3b. Invoke bfs we already implemented. All vertices not reachable will have distance inf\n",
    "            distances = bfs(adj_dict, v)\n",
    "            #4. Filter out all vertices with infinite distances, \n",
    "            #those are the vertices not in the current connected component\n",
    "            vertices = [v for v, dist in enumerate(distances) if dist is not math.inf]\n",
    "            \n",
    "            #5. Add all vertices in current component to the set, to prevent further exploration of these vertices\n",
    "            explored.update(vertices)\n",
    "            \n",
    "            #6. Store the uccs as 1, 2, 3, 4,....\n",
    "            uccs[ucc_id] = vertices\n",
    "            ucc_id += 1\n",
    "    \n",
    "    return uccs\n",
    "    \n",
    "adj_dict = {v: [m for m in k] for v, k in G.adjacency()}\n",
    "uccs = ucc(adj_dict)\n",
    "print('Number of connected components are %d\\n'%len(uccs))\n",
    "for ucc_id in uccs:\n",
    "    print('Connected component', ucc_id, 'has vertices', uccs[ucc_id])"
   ]
  },
  {
   "cell_type": "markdown",
   "metadata": {},
   "source": [
    "\n",
    "The result we see above is exactly what we expected.\n",
    "\n",
    "---\n",
    "\n",
    "Lets look at the running time of this algorithm.\n",
    "\n",
    "For BFS, the algorithm never processes a vertex more than once and thus one component of the complexity if linear in terms of the number of vertices n. If it processes a vertex, it will iterate over each edge of the graph which involves this vertex. Since each vertex if processed only once and each time we process all edges of that vertex, the complexity if also linear in the number of edges in that graph and thus the time complxity is $O(m + n)$\n",
    "\n",
    "For the connected components (UCC) algorithm, we do a linear scan on all vertices and invoke BFS from a vertex only if it does not yet belong to a UCC, Thus for a connected component *i*, the complexity if $\\theta(m_i + n_i)$\n",
    "\n",
    "The total complexity therefore is $\\theta(\\sum_i{m_i} + \\sum_i{n_i})$\n",
    "\n",
    "The ucc algoritm discovers all the vertices across all the connected components and by definition of ucc, one vertex belongs to only one connected component. Therefore $\\sum{n_i}$ will be same as the total vertices in the graph(s). Similarly, the edges in the connected components belong entirely to the vertices within that connected component and thus $\\sum{m_i}$ is same as the number of edges in the graph and therefore the complexity of ucc is $\\theta(m + n)$\n",
    "\n",
    "\n",
    "#### Depth First Search (DFS)\n",
    "\n",
    "We will now look at another graph traversal algorithm, DFS.\n",
    "\n",
    "Below, is a recursive implementation of DFS. We will define the same graph used for BFS and do a DFS traversal. First, lets take a look at the graph again\n",
    "\n"
   ]
  },
  {
   "cell_type": "code",
   "execution_count": 9,
   "metadata": {},
   "outputs": [
    {
     "data": {
      "image/png": "[encoded data removed]",
      "text/plain": [
       "<Figure size 432x288 with 1 Axes>"
      ]
     },
     "metadata": {},
     "output_type": "display_data"
    }
   ],
   "source": [
    "G = nx.Graph()\n",
    "edges = [(0, 1), (0, 2), (2, 3), (1, 3), (3, 4), (3, 5), (4, 5)]\n",
    "G.add_edges_from(edges)\n",
    "nx.draw(G, with_labels = True)\n",
    "plt.show()"
   ]
  },
  {
   "cell_type": "markdown",
   "metadata": {},
   "source": [
    "Now, with DFS, we will print out the order in which we iterate through the vertices of the graph"
   ]
  },
  {
   "cell_type": "code",
   "execution_count": 10,
   "metadata": {},
   "outputs": [
    {
     "data": {
      "text/plain": [
       "[0, 1, 3, 2, 4, 5]"
      ]
     },
     "execution_count": 10,
     "metadata": {},
     "output_type": "execute_result"
    }
   ],
   "source": [
    "def dfs(adj_dict, start_vertex):\n",
    "    visited = set()\n",
    "    order = list()\n",
    "    def dfs_(current_vertex):\n",
    "        if current_vertex not in visited:\n",
    "            visited.add(current_vertex)\n",
    "            order.append(current_vertex)\n",
    "            \n",
    "            for adjacent_vertex in adj_dict[current_vertex]:\n",
    "                dfs_(adjacent_vertex)\n",
    "            \n",
    "        \n",
    "    dfs_(start_vertex)\n",
    "    return order\n",
    "    \n",
    "    \n",
    "adj_dict = {v: [m for m in k] for v, k in G.adjacency()}\n",
    "dfs(adj_dict, 0)"
   ]
  },
  {
   "cell_type": "markdown",
   "metadata": {},
   "source": [
    "\n",
    "The above result shows us how the traversal went from 0 -> 1 and then 1 -> 3 and finally 3 traversing all its adjacent vertices including 2 (which is also adjacent to 0). This is now how BFS worked and it would be visited 1 and 2 before it visited 3.\n",
    "\n",
    "For running time, its similar to BFS, each vertex is visited only once and we travse all edges from the vertex currently processed. Therefore the running time is $\\theta(m + n)$\n",
    "\n",
    "\n",
    "#### Topological Sort\n",
    "\n",
    "We will now look at an application of DFS, which is topological sort. \n",
    "\n",
    "Topological ordering of a graph G = (V, E) is assignment $f(v)$ to every vertex v $\\in$ V such that for every edge (v, w) $\\in$ E, $f(v) < f(w)$\n",
    "\n",
    "Topological ordering is useful when we want to sequence tasks when precence constraints are respected.\n",
    "\n",
    "---\n",
    "\n",
    "*** Quiz 8.3 ***\n",
    "\n",
    "For the Given graph 2 topological orderings are possible.\n",
    "\n",
    "---\n",
    "\n",
    "\n",
    "Topological ordering is not possible when we have directed cycles or cyclic dependencies in a graph. A graph with no directed cycles are called *Directed Acyclic Graph (DAG) *\n",
    "\n",
    "*TODO: Give notes on the proof that DAG has at least one topological ordering*\n",
    "\n",
    "---\n",
    "\n",
    "##### Topological ordering using DFS\n",
    "\n",
    "We will now see how we can do Topological ordering using DFS, First, we will plot look at the graph which we will use for computing the topological ordering\n"
   ]
  },
  {
   "cell_type": "code",
   "execution_count": 11,
   "metadata": {},
   "outputs": [
    {
     "data": {
      "image/png": "[encoded data removed]",
      "text/plain": [
       "<Figure size 432x288 with 1 Axes>"
      ]
     },
     "metadata": {},
     "output_type": "display_data"
    }
   ],
   "source": [
    "G = nx.DiGraph()\n",
    "G.add_edges_from([(1, 2), (1, 3), (3, 4), (2, 4)])\n",
    "nx.draw(G, with_labels = True)\n",
    "plt.show()"
   ]
  },
  {
   "cell_type": "markdown",
   "metadata": {},
   "source": [
    "\n",
    "The above graph has one source vertex, 1 and 1 sink vertex 4. Lets use DFS to find to find the topological ordering of the graph.\n"
   ]
  },
  {
   "cell_type": "code",
   "execution_count": 12,
   "metadata": {},
   "outputs": [
    {
     "name": "stdout",
     "output_type": "stream",
     "text": [
      "Topological ordering for the graph is [1, 3, 2, 4]\n"
     ]
    }
   ],
   "source": [
    "def topoSort(graph):\n",
    "    \n",
    "    currLabel = len(graph.nodes)\n",
    "    labels = [0] * currLabel\n",
    "    explored = set()\n",
    "    \n",
    "    def dfs(vertex): \n",
    "        nonlocal currLabel\n",
    "        out_edges = graph.out_edges(vertex)\n",
    "        for _, to in out_edges:\n",
    "            if to not in explored:\n",
    "                explored.add(to)\n",
    "                dfs(to)\n",
    "        \n",
    "        labels[vertex - 1] = currLabel\n",
    "        currLabel -= 1\n",
    "\n",
    "    source_vertices = filter(lambda e: len(G.in_edges(e)) == 0, G.nodes)\n",
    "    for s in source_vertices:\n",
    "        dfs(s)\n",
    "\n",
    "    return labels\n",
    "    \n",
    "order = topoSort(G)   \n",
    "\n",
    "print('Topological ordering for the graph is', order)"
   ]
  },
  {
   "cell_type": "markdown",
   "metadata": {},
   "source": [
    "\n",
    "The ordering looks ok and gave us one of the possible valid orderings, now let is try it out on a vertex with two source vertices and see how it works"
   ]
  },
  {
   "cell_type": "code",
   "execution_count": 13,
   "metadata": {},
   "outputs": [
    {
     "data": {
      "image/png": "[encoded data removed]",
      "text/plain": [
       "<Figure size 432x288 with 1 Axes>"
      ]
     },
     "metadata": {},
     "output_type": "display_data"
    }
   ],
   "source": [
    "G = nx.DiGraph()\n",
    "G.add_edges_from([(1, 2), (1, 3), (3, 4), (2, 4), (5, 2), (5, 3)])\n",
    "nx.draw(G, with_labels = True)\n",
    "plt.show()"
   ]
  },
  {
   "cell_type": "code",
   "execution_count": 14,
   "metadata": {},
   "outputs": [
    {
     "name": "stdout",
     "output_type": "stream",
     "text": [
      "Topological ordering for the graph with vertices [1, 2, 3, 4, 5] is [2, 4, 3, 5, 1]\n"
     ]
    }
   ],
   "source": [
    "order = topoSort(G)   \n",
    "\n",
    "print('Topological ordering for the graph with vertices [1, 2, 3, 4, 5] is', order)"
   ]
  },
  {
   "cell_type": "markdown",
   "metadata": {},
   "source": [
    " To See how the topological ordering on a cyclic graph behaves, let us look at the following"
   ]
  },
  {
   "cell_type": "code",
   "execution_count": 15,
   "metadata": {},
   "outputs": [
    {
     "data": {
      "image/png": "[encoded data removed]",
      "text/plain": [
       "<Figure size 432x288 with 1 Axes>"
      ]
     },
     "metadata": {},
     "output_type": "display_data"
    },
    {
     "name": "stdout",
     "output_type": "stream",
     "text": [
      "Topological ordering for the graph with vertices [1, 2, 3, 4] is [0, 0, 0, 0]\n"
     ]
    }
   ],
   "source": [
    "G = nx.DiGraph()\n",
    "G.add_edges_from([(1, 2), (2, 3), (3, 4), (4, 1)])\n",
    "nx.draw(G, with_labels = True)\n",
    "plt.show()\n",
    "order = topoSort(G)   \n",
    "\n",
    "print('Topological ordering for the graph with vertices [1, 2, 3, 4] is', order)"
   ]
  },
  {
   "cell_type": "markdown",
   "metadata": {},
   "source": [
    "\n",
    "---\n",
    "\n",
    "***Quiz 8.4***\n",
    "\n",
    "As we see in the above case, the topological ordering never completes successfully, but the program terminates. Thus the answer id (d)\n",
    "\n",
    "---\n",
    "\n",
    "##### Computing Strongly connected components\n",
    "\n",
    "Strongly connected component of a directed graph G with vertices V is a maximal set of S $\\subseteq$ V, such that we can travese from any given vertex to any other vertex in these set of vertices.\n",
    "\n",
    "Consider the following graph\n",
    "\n"
   ]
  },
  {
   "cell_type": "code",
   "execution_count": 16,
   "metadata": {},
   "outputs": [
    {
     "data": {
      "image/png": "[encoded data removed]",
      "text/plain": [
       "<Figure size 432x288 with 1 Axes>"
      ]
     },
     "metadata": {},
     "output_type": "display_data"
    }
   ],
   "source": [
    "G = nx.DiGraph()\n",
    "G.add_edges_from([(1, 2), (2, 3), (3, 1), (2, 4), (4, 5), (4, 6), (5, 7), (7, 6), (6, 5)])\n",
    "nx.draw(G, with_labels = True)\n",
    "plt.show()\n"
   ]
  },
  {
   "cell_type": "markdown",
   "metadata": {},
   "source": [
    "From the above graph, we can see that we can have a set of vertices {1, 2, 3}, {4}, {5, 6, 7} as three maximal set of vertices of the directed graph with vertices {1, 2, 3, 4, 5, 6, 7}, where, for any given maximal subset, we can find a path from any vertex to any other vertex in the subset. \n",
    "\n",
    "Computing the strongly connected components for a directed graph is not as straight forward as the `UCC` algorithm we saw earlier\n",
    "\n",
    "The following directed graph too has three strongly connected, components. With each SCC as a vertex in the graph"
   ]
  },
  {
   "cell_type": "code",
   "execution_count": 17,
   "metadata": {},
   "outputs": [
    {
     "data": {
      "image/png": "[encoded data removed]",
      "text/plain": [
       "<Figure size 432x288 with 1 Axes>"
      ]
     },
     "metadata": {},
     "output_type": "display_data"
    }
   ],
   "source": [
    "G = nx.DiGraph()\n",
    "G.add_edges_from([(1, 2), (2, 3)])\n",
    "nx.draw(G, with_labels = True)\n",
    "plt.show()"
   ]
  },
  {
   "cell_type": "markdown",
   "metadata": {},
   "source": [
    "The relations betweem vertices in the above graph and the one before that is same. If we look closely, each vertex in the above graph can be replaced with an SCC with larger number of vertices.\n",
    "\n",
    "The graph above can be viewed as the zoomed out relations between the SCCs in the graph with 7 vertices we saw earlier.\n",
    "\n",
    "---\n",
    "*** Quiz 8.5 ***\n",
    "\n",
    "For a Directed **Acyclic** Graph, since there are no cycles, it is not possible to go from one vertex to another vertex and thus we are left with minimum and maximum number of SCCs as the number of vertices in the graph n, where each SCC is one vertex.\n",
    "\n",
    "The answer is therefore **d**, **n and n**\n",
    "\n",
    "---\n",
    "\n",
    "Lets consider the below graph again and we initiate a DFS on it from two vertices in it"
   ]
  },
  {
   "cell_type": "code",
   "execution_count": 18,
   "metadata": {},
   "outputs": [
    {
     "data": {
      "image/png": "[encoded data removed]",
      "text/plain": [
       "<Figure size 432x288 with 1 Axes>"
      ]
     },
     "metadata": {},
     "output_type": "display_data"
    }
   ],
   "source": [
    "G = nx.DiGraph()\n",
    "G.add_edges_from([(1, 2), (2, 3), (3, 1), (2, 4), (4, 5), (4, 6), (5, 7), (7, 6), (6, 5)])\n",
    "nx.draw(G, with_labels = True)\n",
    "plt.show()\n"
   ]
  },
  {
   "cell_type": "code",
   "execution_count": 19,
   "metadata": {},
   "outputs": [
    {
     "name": "stdout",
     "output_type": "stream",
     "text": [
      "DFS from vertex 6 gives us [6, 5, 7]\n",
      "DFS from vertex 1 gives us [1, 2, 3, 4, 5, 7, 6]\n"
     ]
    }
   ],
   "source": [
    "adj_dict = {v: [m for m in k] for v, k in G.adjacency()}\n",
    "dfs6 = dfs(adj_dict, 6)\n",
    "dfs1 = dfs(adj_dict, 1)\n",
    "print('DFS from vertex 6 gives us', dfs6)\n",
    "print('DFS from vertex 1 gives us', dfs1)"
   ]
  },
  {
   "cell_type": "markdown",
   "metadata": {},
   "source": [
    "\n",
    "As we see above, the DFS from vertex 6 seems to have given us one of the strongly connected component but a DFS from 1 gives us the entire graph.\n",
    "\n",
    "It seems like we do require DFS to uncover these SCCs in a graph but the order of invoking DFS on the vertices is very important to prevent traversal of entire graph while doing DFS. In above case, starting from any of the vertex in the SCC {5, 6, 7} will work as it is SCC, that is, there is no outgoing edge from this SCC to any other SCC.\n",
    "\n",
    "We will look at Kosaraju's Algorithm to find SCC in a directed graph.\n",
    "\n",
    "We will look at the following Theorem first which says\n",
    "\n",
    "If G is a graph with vertices ordered aribtrarily, then for each v $\\in$ V, f(v) denotes the position of the vertex v computed using the topological sort.\n",
    "\n",
    "Suppose we have two SCC's of G, $S_1$ and $S_2$, then, suppose we have an edge (v, w) with v $\\in$ $S_1$ and w $\\in$ $S_2$, then $min_{x \\in S_1}\\:f(x) < min_{y \\in S_1}\\:f(y)$\n",
    "\n",
    "\n",
    "We have the following two case.\n",
    "\n",
    "The Topo Sort picks aa vertex in SCC S1. In which case, after we initiate DFS from S1, There will be at least one vertex v which connects to a vertex in S2. Given the recursive nature of the call, once the traversal reaches one one of the vertices of S2, we will discover all vertices of S2 by definition of SCC where we can reach all vertices from any vertex in an SCC. In this case, there will be atleast one vertex in SCC $S_1$ which will have $f(v)$ < the minimimum f value of vertices in S2\n",
    "\n",
    "The second case is when we start Topo Sort from a vertex in S2. In this case, we cannot reach any vertex in S1 which mean, the $f(v)$ for all vertices in S2 is > all vertices in S1, which is even stronger than our assumption\n",
    "\n",
    "$min_{x \\in S_1}\\:f(x) < min_{y \\in S_1}\\:f(y)$\n",
    "\n",
    "\n",
    "---\n",
    "\n",
    "*** Quiz 8.6 ***\n",
    "\n",
    "If G is the directed graph $G$ and the reversed graph is $G^{rev}$, then the following two hold true\n",
    "\n",
    "- Every SCCs in $G$ is also an SCC $G^{rev}$\n",
    "- Every Sink SCC in $G$ becomes source SCC in $G^{rev}$ \n",
    "\n",
    "Thus the answer is **(b)** and **(d)**\n",
    "\n",
    "---\n",
    "\n",
    "Continuing with te theorem we saw, above, the vertex with the highest value of f(v), lies in the sink SCC and is a perfect candidate for the second DFS to discover the SCCs in the directed graph.\n",
    "\n",
    "Lets implement Kosaraju's algorithm "
   ]
  },
  {
   "cell_type": "code",
   "execution_count": 20,
   "metadata": {},
   "outputs": [],
   "source": [
    "def kosarajuSCC(g):    \n",
    "    #g is a Directed Graph\n",
    "    #Returning a graph only for plotting\n",
    "    def reverse():\n",
    "        adj_list = [(k, [t for t in v]) for k, v in g.adjacency()]\n",
    "        #TODO: If performance is a problem prepare adj list without creating the rev DiGraph\n",
    "        rev = nx.DiGraph()\n",
    "        rev.add_edges_from([(e, s) for s, t in adj_list for e in t])        \n",
    "        return rev, {k: [t for t in v] for k, v in rev.adjacency()}\n",
    "    \n",
    "    #1. Reverse the graph\n",
    "    rev, rev_adj_list = reverse()\n",
    "\n",
    "    numVertices = len(rev.nodes)\n",
    "    curr = numVertices\n",
    "    visited = set()\n",
    "    \n",
    "    #Non recursive implementation of DFS, \n",
    "    #With recursive approach the challenge problem gives \n",
    "    #segmentation error for running out of stack\n",
    "    def dfs(adj_list, start):\n",
    "        stk = [start]        \n",
    "        scc = []\n",
    "        while len(stk) > 0:\n",
    "            top = stk.pop()             \n",
    "            if top in visited:                \n",
    "                continue\n",
    "            else:\n",
    "                visited.add(top)\n",
    "                scc.append(top)\n",
    "                stk.extend(adj_list[top])\n",
    "                \n",
    "        return scc\n",
    "    \n",
    "    \n",
    "    #2. Invoke TopoSort on the reversed graph giving each vertex a rank, f(v).    \n",
    "    f = [0] * (numVertices + 1)\n",
    "    for i in range(1, numVertices + 1):\n",
    "        if f[i] == 0:\n",
    "            nodes = dfs(rev_adj_list, i)\n",
    "            for n in reversed(nodes):\n",
    "                f[n] = curr\n",
    "                curr -= 1\n",
    "    \n",
    "    #print(f)\n",
    "    #3. Sort by reverse order of f value and invoke DFS starting from that vertex.\n",
    "    order = { f[i] : i for i in range(1, numVertices + 1)}\n",
    "    #print(order)\n",
    "    visited = set()\n",
    "    \n",
    "    adj_list = {k: [t for t in v] for k, v in g.adjacency()}\n",
    "    sccs = []\n",
    "    for o in range(1, numVertices + 1):\n",
    "        if order[o] not in visited:\n",
    "            scc = dfs(adj_list, order[o])            \n",
    "            sccs.append(scc)\n",
    "    \n",
    "    #nx.draw(rev, with_labels = True)\n",
    "    #plt.show()\n",
    "    return sccs\n",
    "    \n",
    " \n"
   ]
  },
  {
   "cell_type": "code",
   "execution_count": 21,
   "metadata": {},
   "outputs": [
    {
     "data": {
      "image/png": "[encoded data removed]",
      "text/plain": [
       "<Figure size 432x288 with 1 Axes>"
      ]
     },
     "metadata": {},
     "output_type": "display_data"
    },
    {
     "name": "stdout",
     "output_type": "stream",
     "text": [
      "Number of SCCs in the graph are 3\n",
      "\tSCC 1 is [5, 7, 6]\n",
      "\tSCC 2 is [4]\n",
      "\tSCC 3 is [1, 2, 3]\n"
     ]
    }
   ],
   "source": [
    "G = nx.DiGraph()\n",
    "G.add_edges_from([(1, 2), (2, 3), (3, 1), (2, 4), (4, 5), (4, 6), (5, 7), (7, 6), (6, 5)])\n",
    "nx.draw(G, with_labels = True)\n",
    "plt.show()\n",
    "\n",
    "sccs = kosarajuSCC(G)\n",
    "print('Number of SCCs in the graph are', len(sccs))\n",
    "for i in range(len(sccs)):\n",
    "    print('\\tSCC', (i + 1), 'is', sccs[i])"
   ]
  },
  {
   "cell_type": "markdown",
   "metadata": {},
   "source": [
    "\n",
    "For the small test graph, the results seems ok. Let us test it against the test cases given [here](http://theory.stanford.edu/~tim/algorithmsilluminated.html) under *Programming Problem 8.10: Computing Strongly Connected Components*"
   ]
  },
  {
   "cell_type": "code",
   "execution_count": 22,
   "metadata": {},
   "outputs": [],
   "source": [
    "def diGraphFromFile(fileName):\n",
    "    with open(fileName, 'r') as f:\n",
    "        lines = f.readlines()\n",
    "        edges = [list(map(int, s.strip().split())) for s in lines]\n",
    "        \n",
    "    \n",
    "    g = nx.DiGraph()\n",
    "    g.add_edges_from(edges)\n",
    "    return g    \n"
   ]
  },
  {
   "cell_type": "code",
   "execution_count": 23,
   "metadata": {},
   "outputs": [
    {
     "data": {
      "image/png": "[encoded data removed]",
      "text/plain": [
       "<Figure size 432x288 with 1 Axes>"
      ]
     },
     "metadata": {},
     "output_type": "display_data"
    }
   ],
   "source": [
    "g = diGraphFromFile('problem8.10test1.txt')\n",
    "sccs = kosarajuSCC(g)\n",
    "nx.draw(g, with_labels = True)\n",
    "plt.show()\n"
   ]
  },
  {
   "cell_type": "code",
   "execution_count": 24,
   "metadata": {},
   "outputs": [
    {
     "name": "stdout",
     "output_type": "stream",
     "text": [
      "Length of SCCS for problem8.10test1.txt are  [3, 3, 3]\n"
     ]
    }
   ],
   "source": [
    "print('Length of SCCS for problem8.10test1.txt are ', [len(x) for x in sccs])"
   ]
  },
  {
   "cell_type": "markdown",
   "metadata": {},
   "source": [
    "\n",
    "The above SCCs are expected, let us try out other graphs and see the results"
   ]
  },
  {
   "cell_type": "code",
   "execution_count": 25,
   "metadata": {},
   "outputs": [
    {
     "name": "stdout",
     "output_type": "stream",
     "text": [
      "Length of SCCS for problem8.10test2.txt are [3, 3, 2]\n",
      "Length of SCCS for problem8.10test3.txt are [3, 3, 1, 1]\n",
      "Length of SCCS for problem8.10test4.txt are [7, 1]\n",
      "Length of SCCS for problem8.10test5.txt are [6, 3, 2, 1]\n"
     ]
    }
   ],
   "source": [
    "test_files = ['problem8.10test2.txt', 'problem8.10test3.txt', 'problem8.10test4.txt', 'problem8.10test5.txt']\n",
    "\n",
    "for t in test_files:\n",
    "    sccs = kosarajuSCC(diGraphFromFile(t))\n",
    "    print('Length of SCCS for', t, 'are', sorted([len(x) for x in sccs], reverse = True))\n"
   ]
  },
  {
   "cell_type": "markdown",
   "metadata": {},
   "source": [
    "The following code takes about 50 seconds to run the algorithm and around 40 seconds to read the data from file in memory. Some performance improvement for the algorithm running time can be achieved by not explicitly reversing the graph to create the adjacency list but use the input graph directly. This should also reduce the memory footprint"
   ]
  },
  {
   "cell_type": "code",
   "execution_count": 26,
   "metadata": {},
   "outputs": [
    {
     "name": "stdout",
     "output_type": "stream",
     "text": [
      "Wall time: 19.5 s\n"
     ]
    }
   ],
   "source": [
    "%%time\n",
    "g = diGraphFromFile('problem8.10.txt')"
   ]
  },
  {
   "cell_type": "code",
   "execution_count": 27,
   "metadata": {},
   "outputs": [
    {
     "name": "stdout",
     "output_type": "stream",
     "text": [
      "Length of top 5 SCCS for test file are [434821, 968, 459, 313, 211]\n",
      "Wall time: 29.4 s\n"
     ]
    }
   ],
   "source": [
    "%%time\n",
    "import sys\n",
    "sccs = kosarajuSCC(g)\n",
    "print('Length of top 5 SCCS for test file are', sorted([len(x) for x in sccs], reverse = True)[0:5])"
   ]
  },
  {
   "cell_type": "markdown",
   "metadata": {},
   "source": [
    "As we see above, the top 5 biggest SCCs are of size **434821, 968, 459, 313 ** and **211**\n",
    "\n",
    "---\n",
    "\n",
    "#### Test Your Understanding\n",
    "\n",
    "---\n",
    "\n",
    "**Problem 8.1 **\n",
    "\n",
    "All four statements are right, \n",
    "\n",
    "* We can use BFS to compute connected components of undirected graph in $\\theta(m + n)$\n",
    "* BFS can be used to find the length of shortedt path from starting vertex to every other vertex in $\\theta(m +n)$\n",
    "* DFS can be used to compute SCC in $\\theta(m +n)$, we have seen Kosaraju's algorithm do it\n",
    "* DFS can be used to compute the topological ordering in $\\theta(m +n)$\n",
    "\n",
    "---\n",
    "\n",
    "**Problem 8.1 **\n",
    "\n",
    "In general, given that we can find the adjacent vertices of a vertex in constant time, DFS (or BFS) can run in $\\theta(m +n)$. However, an adjacency matrix has a dimension $n^2$ and the complexity to get adjacent vertices of a vertex is $\\theta(n)$, thus the overall complexity becomes $\\theta(n^2)$.\n",
    "\n",
    "---\n",
    "\n",
    "** Problem  8.3 **\n",
    "\n",
    "From the given 4 conditions, option **(b)** $r \\leq d$ is obvious as by definition diameter is maximum of the maximum distances between pair of vertices and radius is minimum of maximum distances between pair of vertices\n",
    "\n",
    "Let us consider the following \n",
    "\n",
    "let diameter d = dist(A, B) and radius r = dist(C, D), \n",
    "\n",
    "distance between A and B is the shortest distance, thus we can say \n",
    "\n",
    "dist(A, C) + dist(C, B) $\\geq$ dist(A, B)\n",
    "\n",
    "It will be equal only if C falls in the shortest path between A and B.\n",
    "\n",
    "By definition of radius, it is the minimum of the maximum distances between pair of vertices. Thus, \n",
    "\n",
    "if dist(C, D) is the radius, we know no other distance to vertices involving C or D has distance greater than dist(C, D) (else that would have been the radius)\n",
    "\n",
    "dist(C, D) $\\geq$ dist(A, C) (Order of the vertices does not matter as distance between A to C is same as distance between C to A)\n",
    "\n",
    "and\n",
    "\n",
    "dist(C, D) $\\geq$ dist(C, B)\n",
    "\n",
    "Therefore, the relation D(A, C) + D(C, B) $\\geq$ D(A, B) can be writen as \n",
    "\n",
    "dist(C, D) + dist(C, D) $\\geq$ D(A, B) $\\implies$ 2 * dist(C, D) $\\geq$ D(A, B) $\\implies$ 2r $\\geq$ d $\\implies$ r $\\geq \\frac{d}{2}$ \n",
    "\n",
    "\n",
    "And another right option is **(c)**\n",
    "\n",
    "---\n",
    "\n",
    "** Problem  8.4 **\n",
    "\n",
    "The answer to the best of my knowledge is  **(d)** as for all other cases I can come up with some graph that satisfies the given statement but still does not guarantee a unique topological ordering.\n",
    "\n",
    "- First one is very broad, yes if the graph is directed acyclic we can compute topological ordering but we have seen several cases where the the topological order is not not unique, thus (a) is not an answer\n",
    "- For graphs with cycles, we cannot compute topological sort, thus (b) is incorrect\n",
    "- This is tricky, but consider a graph with edges X -> Y and X -> Z, once on X we visit a vertex only once in any given path, but the topological ordering of 1, 2, 3, and 1, 3, 2 for X, Y and Z are all valid. Thus (c) doesn't look to be an answer\n",
    "- The option (d) is the only option we have\n",
    "\n",
    "---\n",
    "\n",
    "** Problem  8.5 **\n",
    "\n",
    "I quite dont understand the question, specifically the statement *Minimizes the number of edges that travel backward*\n",
    "\n",
    "---\n",
    "\n",
    "** Problem  8.6 **\n",
    "\n",
    "- Option **(a) is correct**, if the new edge is between vertices of same SCC, then there is no change on SCCs. However, consider two SCCs $S$ and $S^\\prime$, suppose we have an edge from $S \\rightarrow S^\\prime$, adding a new edge between a vertex in $S^\\prime$ to $S$, will merge $S$ and $S^\\prime$ into one SCC.\n",
    "- Option **(b) is incorrect**, we just saw above how the SCCs can decrease\n",
    "- Option **(c) is correct**. Adding an edge cannot possibly break an SCC into 2 or more smaller SCCs under any circumstance, thus SCCs cannot increase.\n",
    "- Option **(d) is correct** as the maximum number of SCCs affected are 2 merged in 1 SCC as we saw in case (a), thus the number SCCs cannot decrease by more than 1\n",
    "\n",
    "---\n",
    "\n",
    "** Problem  8.7 **\n",
    "\n",
    "For Kosaraju's algorithm, we first need to do a topological sort which can only be done using DFS. Therefore, options (a) and (b) are incorrect.\n",
    "\n",
    "Once the topological ordering is done, we need to explore the connections starting from that vertex to find the SCC. This can be done either by DFS or BFS, hence option (c) is correct and option (d) is wrong.\n",
    "\n",
    "---\n",
    "\n",
    "** Problem  8.8 **\n",
    "\n",
    "(a) is correct. The algorithm does the same thing as we have implemented just reversed the numbering\n",
    "(b) is correct. SCCs in revrese graph are same as SCCs in original graph. \n",
    "(c) is incorrect, the numbering is different in reversed graph as the sink vertices become source and source become sink and thus the topological ordering is different.\n",
    "(d) is incorrect, same as above this is incorrect.\n",
    "\n",
    "\n",
    "---\n",
    "** Problem  8.9 **\n",
    "\n",
    "Credits to [this](https://www.geeksforgeeks.org/2-satisfiability-2-sat-problem/) URL for the following content.\n",
    "\n",
    "2-SAT is a type of Boolean satisfiability (SAT). SAT determines if we can assign boolean values to the variables in an expression such that the resulting value of the expression is true, or always false irrespective of the values assigned. If there is a choice of variable values that let us evaluate the expression to true, then the expresion is satisfiable else not satisfiable. These are NP-complete problems, but 2-SAT, a special case can be solved in linear time. Consider the following examples\n",
    "\n",
    "$X \\land \\neg Y$ is satisfiable with X set to true and Y is false\n",
    "\n",
    "the expression $X \\land \\neg X$ is not satisfiable for any value of X\n",
    "\n",
    "\n",
    "Coming to 2-SAT, a statement is made of conjunction of clauses (and condition), where each clause if made up of two variables with a disjunction (or clause between them). Following is a format of a valid statement\n",
    "\n",
    "$(x_1 \\lor y_1) \\land (x_2 \\lor y_2) \\land \\ldots \\land (x_n \\lor y_n)$\n",
    "\n",
    "(A $\\lor$ B) = True if \n",
    "\n",
    "- If A = 0, B must be 1, $\\bar{A} \\implies B$ (the implication is spoken as \"If not A then B\")\n",
    "- If B = 0, A must be 1, $\\bar{B} \\implies A$ (similarly, this is \"If not B, then A\")\n",
    "\n",
    "Therefore, (A $\\lor$ B) = True is same as saying $(\\bar{A} \\implies B) \\land (\\bar{B} \\implies A)$ (If not A then B and if not B then A)\n",
    "\n",
    "Each disjunction (A $\\lor$ B) is represented by a graph with 2 edges between these 4 vertices.\n",
    "\n",
    "edge($\\bar{A}$, $B$) and edge($\\bar{B}$, $A$)\n",
    "\n",
    "Now consider we have the edge\n",
    "\n",
    "$X \\implies \\bar{X}$\n",
    "- if X is true then $\\bar{X}$ is true, this is a contradiction\n",
    "- If X is false, then there is no implication constraints, thus X is False\n",
    "\n",
    "Similarly, if we have $\\bar{X} \\implies X$\n",
    "- If $\\bar{X}$ is True, X is True. This is a contradiction\n",
    "- If $\\bar{X}$ is False, there is no implication constraints, thus $\\bar{X}$ is False or X is True\n",
    "\n",
    "\n",
    "If we have an edge($\\bar{X}$, $X$) and edge(X, $\\bar{X}$), then one of them require X to be True and one of them require the X to be False for the entire condition to be True. Therefore, we can say that if we can reach from $\\bar{X}$ to $X$ and from $X$ to $\\bar{X}$ in the graph, the expression is non satisfiable. Which is same as saying, if we draw the implication graph and find SCCs using Kosaraju's Algorithm we saw and if we find X and $\\bar{X}$ in same SCC, then it is not satisfiable statement.\n",
    "\n",
    "TODO: Implement this in Python\n",
    "\n",
    "\n",
    "\n",
    "\n",
    "---\n",
    "\n",
    "** Problem  8.10 **\n",
    "\n",
    "\n",
    "Already implemented earlier and all provided test case executed.\n",
    "\n",
    "---\n",
    "\n",
    "\n"
   ]
  },
  {
   "cell_type": "code",
   "execution_count": null,
   "metadata": {
    "collapsed": true
   },
   "outputs": [],
   "source": []
  }
 ],
 "metadata": {
  "kernelspec": {
   "display_name": "Python 3",
   "language": "python",
   "name": "python3"
  },
  "language_info": {
   "codemirror_mode": {
    "name": "ipython",
    "version": 3
   },
   "file_extension": ".py",
   "mimetype": "text/x-python",
   "name": "python",
   "nbconvert_exporter": "python",
   "pygments_lexer": "ipython3",
   "version": "3.7.1"
  }
 },
 "nbformat": 4,
 "nbformat_minor": 2
}

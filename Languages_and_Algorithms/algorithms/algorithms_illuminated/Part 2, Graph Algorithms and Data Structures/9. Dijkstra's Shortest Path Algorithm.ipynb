{
 "cells": [
  {
   "cell_type": "markdown",
   "metadata": {
    "collapsed": true
   },
   "source": [
    "### Introduction\n",
    "\n",
    "The algorithm, given a directed graph and a starting vertex, it will find the shortest paths between the starting vertex and all vertices it can reach. The algorithm **only** works when the paths have non negative edges connecting the vertices.\n",
    "\n",
    "\n",
    "Thus, given a graph G = (V, E), a starting vertex s $\\in$ V and non negative edges of length $l_e$ where e $\\in$ E, the output of the algorithm is dist(s, v) for every vertex v $\\in$ V\n",
    "\n",
    "The dist(s, v) denotes the shortest distance from s to v and dist(s, v) = $\\infty$ if there is no path from s to a vertex v.\n",
    "\n",
    "---\n",
    "\n",
    "We have seen how BFS can be used to find the shortest path to any vertex from a vertex. This is a special case of graph where each edge has unit length. Djikstra's algorithm is more generic in a way where each edge can have a weight of non positive value.\n",
    "\n",
    "But can we reduce this graph to a graph where edges are of unit length? That is, if an edge between two vertices have a weight 5, we can replace this edge (with the two vertices) with 5 vertices connected one after other with each edge length of 1 as seen in the following graph\n",
    "\n"
   ]
  },
  {
   "cell_type": "code",
   "execution_count": 2,
   "metadata": {},
   "outputs": [
    {
     "data": {
      "image/png": "[encoded data removed]",
      "text/plain": [
       "<matplotlib.figure.Figure at 0x10c43def0>"
      ]
     },
     "metadata": {},
     "output_type": "display_data"
    }
   ],
   "source": [
    "%matplotlib inline\n",
    "import networkx as nx\n",
    "\n",
    "g1 = nx.DiGraph()\n",
    "g1.add_node(1, pos = (0, 5))\n",
    "g1.add_node(2, pos = (20, 5))\n",
    "g1.add_edge(1, 2, weight = 5)\n",
    "pos = nx.get_node_attributes(g1, 'pos')\n",
    "weights =nx.get_edge_attributes(g1, 'weight')\n",
    "nx.draw_networkx_edge_labels(g1, pos, edge_labels = weights)\n",
    "nx.draw(g1, pos, with_labels = True)\n",
    "\n",
    "g2 = nx.DiGraph()\n",
    "g2.add_node(1, pos = (0, 0))\n",
    "g2.add_node(2, pos = (5, 0))\n",
    "g2.add_node(3, pos = (10, 0))\n",
    "g2.add_node(4, pos = (15, 0))\n",
    "g2.add_node(5, pos = (20, 0))\n",
    "g2.add_edge(1, 2, weight = 1)\n",
    "g2.add_edge(2, 3, weight = 1)\n",
    "g2.add_edge(3, 4, weight = 1)\n",
    "g2.add_edge(4, 5, weight = 1)\n",
    "pos = nx.get_node_attributes(g2, 'pos')\n",
    "weights =nx.get_edge_attributes(g2, 'weight')\n",
    "nx.draw_networkx_edge_labels(g2, pos, edge_labels = weights)\n",
    "nx.draw(g2, pos, with_labels = True)"
   ]
  },
  {
   "cell_type": "markdown",
   "metadata": {},
   "source": [
    "\n",
    "\n",
    "The idea sounds right and also works well for small graphs with small length edges. But imagine graphs with vertices of length order or magnitude larger than the number of vertices in a graph (e.g. two vertices connected by edge of length 100 gets transformed to a graoh with 100 vertices each of unit length). \n",
    "\n",
    "Though BFS runs in linear time of the input graph size, the transformed graph is way larger that the original graph and hence the time complexity is no longer linear with respect to the original input graph and thus this appoach, though clever doesn't practically scale to all graphs.\n",
    "\n",
    "\n",
    "---\n",
    "\n",
    "\n",
    "Let us now look at an implementation of Djikstra's algorithm. Though the implementation here can use heap, we will not use it and stick to the approach the Pseudo code gives in thic chapter. This implementation will use Heap in future notebook and we will be able to appreciate the how the choice of right datastructure is crucial even for the same algorithm\n",
    "\n",
    "TODO: Naive implementation here"
   ]
  },
  {
   "cell_type": "code",
   "execution_count": 3,
   "metadata": {
    "collapsed": true
   },
   "outputs": [],
   "source": [
    "def djikstra_naive(adj_list, start_vert):    \n",
    "    distances = {v : float('inf') for v in adj_list}\n",
    "    distances[start_vert] = 0\n",
    "\n",
    "    X = set()\n",
    "    X.add(start_vert)\n",
    "\n",
    "    \n",
    "    def pick_edge():\n",
    "        #Naive implementation which does the following\n",
    "        #\n",
    "        # 1. For vertices in X, find all edges originating from them to all vertices not in X\n",
    "        # 2. Keep track of minimum value of len(w) + lwv\n",
    "        # 3. Return w, v and lwv\n",
    "        \n",
    "        from_vert, to_vert, min_edge_len, min_len = None, None, None, float('inf')\n",
    "        \n",
    "        for v in X:            \n",
    "            for tv, edge_len in adj_list[v]:\n",
    "                edge_len = int(edge_len)\n",
    "                if tv in X:\n",
    "                    continue\n",
    "                    \n",
    "                djikstra_score = distances[v] + edge_len\n",
    "                if min_len > djikstra_score:\n",
    "                    from_vert, to_vert, min_edge_len, min_len = v, tv, edge_len, djikstra_score\n",
    "        \n",
    "        return from_vert, to_vert, min_edge_len\n",
    "        \n",
    "    from_vert, to_vert, edge_len  = pick_edge()\n",
    "    while to_vert is not None:\n",
    "        distances[to_vert] = distances[from_vert] + edge_len\n",
    "        X.add(to_vert)\n",
    "        from_vert, to_vert, edge_len  = pick_edge()\n",
    "        \n",
    "    return distances"
   ]
  },
  {
   "cell_type": "code",
   "execution_count": 4,
   "metadata": {},
   "outputs": [
    {
     "name": "stdout",
     "output_type": "stream",
     "text": [
      "Printing minimum distances from starting vertex s \n",
      "\n",
      "Vertex v is at distance 1\n",
      "Vertex w is at distance 3\n",
      "Vertex t is at distance 6\n"
     ]
    },
    {
     "data": {
      "image/png": "[encoded data removed]",
      "text/plain": [
       "<matplotlib.figure.Figure at 0x116e40f98>"
      ]
     },
     "metadata": {},
     "output_type": "display_data"
    }
   ],
   "source": [
    "import networkx as nx\n",
    "g = nx.DiGraph()\n",
    "g.add_node('s', pos = (0, 5))\n",
    "g.add_node('v', pos = (5, 0))\n",
    "g.add_node('w', pos = (5, 5))\n",
    "g.add_node('t', pos = (10, 5))\n",
    "g.add_edge('s', 'v', weight = 1)\n",
    "g.add_edge('v', 't', weight = 6)\n",
    "g.add_edge('s', 'w', weight = 4)\n",
    "g.add_edge('v', 'w', weight = 2)\n",
    "g.add_edge('w', 't', weight = 3)\n",
    "pos = nx.get_node_attributes(g, 'pos')\n",
    "weights = nx.get_edge_attributes(g, 'weight')\n",
    "nx.draw_networkx_edge_labels(g, pos, edge_labels = weights)\n",
    "nx.draw(g, pos, with_labels = True)\n",
    "\n",
    "start_vert = 's'\n",
    "min_dist = djikstra_naive({v : [(t, weights[(v, t)]) for t in k] for v, k in g.adjacency()}, start_vert)\n",
    "print('Printing minimum distances from starting vertex', start_vert, '\\n')\n",
    "for v in min_dist:\n",
    "    if v == start_vert:\n",
    "        continue\n",
    "    \n",
    "    print('Vertex', v, 'is at distance', min_dist[v])\n",
    "    "
   ]
  },
  {
   "cell_type": "markdown",
   "metadata": {},
   "source": [
    "\n",
    "The naive implementation does work for the simple graph, let us see how it works on the test graph and challenge data set."
   ]
  },
  {
   "cell_type": "code",
   "execution_count": 5,
   "metadata": {},
   "outputs": [
    {
     "name": "stdout",
     "output_type": "stream",
     "text": [
      "1\t2,1\t8,2\r\n",
      "2\t1,1\t3,1\r\n",
      "3\t2,1\t4,1\r\n",
      "4\t3,1\t5,1\r\n",
      "5\t4,1\t6,1\r\n",
      "6\t5,1\t7,1\r\n",
      "7\t6,1\t8,1\r\n",
      "8\t7,1\t1,2\r\n"
     ]
    }
   ],
   "source": [
    "!head  problem9.8test.txt"
   ]
  },
  {
   "cell_type": "code",
   "execution_count": 6,
   "metadata": {},
   "outputs": [
    {
     "name": "stdout",
     "output_type": "stream",
     "text": [
      "Vertex 1 is at a distance 0 from source 1\n",
      "Vertex 2 is at a distance 1 from source 1\n",
      "Vertex 3 is at a distance 2 from source 1\n",
      "Vertex 4 is at a distance 3 from source 1\n",
      "Vertex 5 is at a distance 4 from source 1\n",
      "Vertex 6 is at a distance 4 from source 1\n",
      "Vertex 7 is at a distance 3 from source 1\n",
      "Vertex 8 is at a distance 2 from source 1\n"
     ]
    }
   ],
   "source": [
    "def parseFileToAdjList(fname):\n",
    "    # Constructs an undirected graph from the file representation of the \n",
    "    with open(fname, 'r') as f:\n",
    "        lines = f.readlines()\n",
    "        \n",
    "    def rawToAdjList(l):\n",
    "        splits = l.strip().split('\\t')\n",
    "        source, *dest = splits\n",
    "        return (source, list(map(lambda d: d.split(','), dest)))\n",
    "    \n",
    "    lines = dict(map(rawToAdjList, lines))\n",
    "    \n",
    "    return lines\n",
    "    \n",
    "adj_list = parseFileToAdjList('problem9.8test.txt')\n",
    "source = '1'\n",
    "res = djikstra_naive(adj_list, source)\n",
    "for s in res:\n",
    "    print('Vertex', s, 'is at a distance', res[s], 'from source', source)"
   ]
  },
  {
   "cell_type": "markdown",
   "metadata": {},
   "source": [
    "Again, the distance seem to be correct based on the results expected [here](http://theory.stanford.edu/~tim/algorithmsilluminated.html). Lets time the big test case and see how long it takes to find the distance from the source to other vertices"
   ]
  },
  {
   "cell_type": "code",
   "execution_count": 7,
   "metadata": {},
   "outputs": [
    {
     "name": "stdout",
     "output_type": "stream",
     "text": [
      "CPU times: user 4.89 ms, sys: 2.37 ms, total: 7.26 ms\n",
      "Wall time: 46 ms\n"
     ]
    }
   ],
   "source": [
    "%%time\n",
    "adj_list = parseFileToAdjList('problem9.8.txt')"
   ]
  },
  {
   "cell_type": "code",
   "execution_count": 8,
   "metadata": {},
   "outputs": [
    {
     "name": "stdout",
     "output_type": "stream",
     "text": [
      "CPU times: user 189 ms, sys: 4.49 ms, total: 193 ms\n",
      "Wall time: 194 ms\n"
     ]
    }
   ],
   "source": [
    "%%time\n",
    "source = '1'\n",
    "res = djikstra_naive(adj_list, source)"
   ]
  },
  {
   "cell_type": "code",
   "execution_count": 9,
   "metadata": {},
   "outputs": [
    {
     "name": "stdout",
     "output_type": "stream",
     "text": [
      "Vertex 7 is at a distance 2599 from source 1\n",
      "Vertex 37 is at a distance 2610 from source 1\n",
      "Vertex 59 is at a distance 2947 from source 1\n",
      "Vertex 82 is at a distance 2052 from source 1\n",
      "Vertex 99 is at a distance 2367 from source 1\n",
      "Vertex 115 is at a distance 2399 from source 1\n",
      "Vertex 133 is at a distance 2029 from source 1\n",
      "Vertex 165 is at a distance 2442 from source 1\n",
      "Vertex 188 is at a distance 2505 from source 1\n",
      "Vertex 197 is at a distance 3068 from source 1\n"
     ]
    }
   ],
   "source": [
    "vertex_subset = [7,37,59,82,99,115,133,165,188,197]\n",
    "for s in vertex_subset:\n",
    "    print('Vertex', s, 'is at a distance', res[str(s)], 'from source', source)"
   ]
  },
  {
   "cell_type": "markdown",
   "metadata": {},
   "source": [
    "\n",
    "The naive method works well even for a graph with 200 vertices. As the number of vertices grows this approach will be impractical and using a heap data structure for picking the next vertex with the best Djikstra's score will be required.\n",
    "\n",
    "---\n",
    "\n",
    "We will not look at why the algorithm is correct.\n",
    "\n",
    "TODO: Provide proof for the algorithm correctness\n",
    "\n",
    "---\n",
    "\n",
    "#### Test your understanding\n",
    "\n",
    "**Problem 9.1** \n",
    "\n",
    "(a) and (b)\n",
    "\n",
    "(a) is possible when we have all vertices connected sequentially with no loop in graph. In general, the shortest path passes through all other vertices. (b) is correct as once a vertex is added to frontier, its not possible to add it back in the path.\n",
    "\n",
    "** Problem 9.2 **\n",
    "\n",
    "(b). Since the vertices are powers of two and unique, no two edges can add up to the length of any other edge. Thus the shortest path is unique and not other path is guaranteed to have that length.\n",
    "\n",
    "** Problem 9.3 **\n",
    "\n",
    "(c) and (d)\n",
    "\n",
    "(c) is true because adding 10 to an edge adds 10 times the number of edges to the total length. If we had alernate paths with less number of edges which initially were not shortest, adding 10 to all edges might make that path shortest.  (d) is correct as there wont be less than 1 edge between two vertices and thus the different between the shortest and second shortest in the worst case will stay the same despite adding 10 to all edges.\n",
    "\n",
    "** Problem 9.4 **\n",
    "\n",
    "I believe (a) is the answer. I cannot come up with a graph that fails. This works only because the source vertex has negatve edges and no other vertex has negative vertex. \n",
    "\n",
    "** Problem 9.5 and 9.6 **\n",
    "\n",
    "The answer is (c), Consider the folowing graph\n",
    "\n",
    "** Problem 9.7 **\n",
    "\n",
    "Can't follow the question despite reading the answer\n",
    "\n",
    "** Problem 9.8 **\n",
    "\n",
    "Solved earlier.\n"
   ]
  },
  {
   "cell_type": "code",
   "execution_count": 35,
   "metadata": {},
   "outputs": [
    {
     "data": {
      "image/png": "[encoded data removed]",
      "text/plain": [
       "<matplotlib.figure.Figure at 0x1172f0668>"
      ]
     },
     "metadata": {},
     "output_type": "display_data"
    }
   ],
   "source": [
    "import networkx as nx\n",
    "g = nx.DiGraph()\n",
    "g.add_node('a', pos = (0, 5))\n",
    "g.add_node('b', pos = (10, 5))\n",
    "g.add_edge('a', 'b', weight = 1)\n",
    "\n",
    "g.add_node('c', pos = (15, 7))\n",
    "g.add_edge('b', 'c', weight = -8)\n",
    "\n",
    "g.add_node('d', pos = (15, 12))\n",
    "g.add_edge('c', 'd', weight = -3)\n",
    "\n",
    "g.add_node('e', pos = (7, 12))\n",
    "g.add_edge('d', 'e', weight = 6)\n",
    "\n",
    "g.add_node('f', pos = (5, 10))\n",
    "g.add_edge('e', 'f', weight = -1)\n",
    "g.add_edge('f', 'c', weight = 2)\n",
    "\n",
    "g.add_node('g', pos = (7, 7))\n",
    "g.add_edge('f', 'g', weight = 1)\n",
    "g.add_edge('g', 'c', weight = -2)\n",
    "g.add_edge('a', 'g', weight = -1)\n",
    "\n",
    "pos = nx.get_node_attributes(g, 'pos')\n",
    "weights = nx.get_edge_attributes(g, 'weight')\n",
    "nx.draw_networkx_edge_labels(g, pos, edge_labels = weights)\n",
    "nx.draw(g, pos, with_labels = True)"
   ]
  },
  {
   "cell_type": "markdown",
   "metadata": {},
   "source": [
    "\n",
    "As we see in the above graph, we have two directed cycles g -> c -> d -> e -> f -> g and c -> d -> e -> f -> c. Both have non negative sum of lengths. Still, the shortest distance using Djikstra algorithm for c will be calculated as -3 where the true shortest distance is -7. All vertices that gets pulled into frontier after c will be incorrect. For the above graph, except g and b, the distances will be incorrect. Following code snippet demonstrates the incorrect path lengths"
   ]
  },
  {
   "cell_type": "code",
   "execution_count": 37,
   "metadata": {},
   "outputs": [
    {
     "data": {
      "text/plain": [
       "{'a': 0, 'b': 1, 'c': -3, 'd': -6, 'e': 0, 'f': -1, 'g': -1}"
      ]
     },
     "execution_count": 37,
     "metadata": {},
     "output_type": "execute_result"
    }
   ],
   "source": [
    "min_dist = djikstra_naive({v : [(t, weights[(v, t)]) for t in k] for v, k in g.adjacency()}, 'a')\n",
    "min_dist"
   ]
  },
  {
   "cell_type": "code",
   "execution_count": null,
   "metadata": {},
   "outputs": [],
   "source": []
  },
  {
   "cell_type": "code",
   "execution_count": null,
   "metadata": {
    "collapsed": true
   },
   "outputs": [],
   "source": []
  }
 ],
 "metadata": {
  "kernelspec": {
   "display_name": "Python 3",
   "language": "python",
   "name": "python3"
  },
  "language_info": {
   "codemirror_mode": {
    "name": "ipython",
    "version": 3
   },
   "file_extension": ".py",
   "mimetype": "text/x-python",
   "name": "python",
   "nbconvert_exporter": "python",
   "pygments_lexer": "ipython3",
   "version": "3.6.1"
  }
 },
 "nbformat": 4,
 "nbformat_minor": 2
}
